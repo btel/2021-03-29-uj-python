{
 "cells": [
  {
   "cell_type": "markdown",
   "metadata": {
    "slideshow": {
     "slide_type": "slide"
    }
   },
   "source": [
    "\n",
    "<h1>Pandas Tutorial</h1>\n",
    "\n",
    "(C) Bartosz and Maria Teleńczuk\n",
    "\n",
    "\n",
    "Licensed under [CC BY 4.0 Creative Commons](http://creativecommons.org/licenses/by/4.0/)"
   ]
  },
  {
   "cell_type": "code",
   "execution_count": 1,
   "metadata": {
    "collapsed": false,
    "jupyter": {
     "outputs_hidden": false
    },
    "slideshow": {
     "slide_type": "-"
    }
   },
   "outputs": [],
   "source": [
    "%matplotlib inline\n",
    "import pandas as pd\n",
    "\n",
    "pd.options.display.max_rows = 8"
   ]
  },
  {
   "cell_type": "markdown",
   "metadata": {
    "slideshow": {
     "slide_type": "slide"
    }
   },
   "source": [
    "# Pandas: data analysis in python"
   ]
  },
  {
   "cell_type": "markdown",
   "metadata": {},
   "source": [
    " Pandas can be thought of as NumPy arrays with labels for rows and columns, and better support for heterogeneous data types, but it's also much, much more than that."
   ]
  },
  {
   "cell_type": "markdown",
   "metadata": {
    "slideshow": {
     "slide_type": "subslide"
    }
   },
   "source": [
    "## Why do you need pandas?\n",
    "\n",
    "When working with *tabular or structured data* (like R dataframe, SQL table, Excel spreadsheet, ...):\n",
    "\n",
    "- Import data\n",
    "- Clean up messy data\n",
    "- Explore data, gain insight into data\n",
    "- Process and prepare your data for analysis\n",
    "- Analyse your data (together with scikit-learn, statsmodels, ...)"
   ]
  },
  {
   "cell_type": "markdown",
   "metadata": {
    "slideshow": {
     "slide_type": "slide"
    }
   },
   "source": [
    "## Further reading\n",
    "\n",
    "- the documentation: http://pandas.pydata.org/pandas-docs/stable/\n",
    "- Wes McKinney's book \"Python for Data Analysis\"\n",
    "- lots of tutorials on the internet (search \"pandas tutorial\" On github or youtube)\n",
    "\n"
   ]
  },
  {
   "cell_type": "markdown",
   "metadata": {},
   "source": [
    "## Dataframes"
   ]
  },
  {
   "cell_type": "markdown",
   "metadata": {},
   "source": [
    "DataFrame: multi-dimensional table of structured, hetermogeneous data, similar to spreadsheet"
   ]
  },
  {
   "cell_type": "markdown",
   "metadata": {},
   "source": [
    "We will first download the data, **please copy and paste**:"
   ]
  },
  {
   "cell_type": "code",
   "execution_count": 2,
   "metadata": {},
   "outputs": [],
   "source": [
    "# download data from server and save in a local file\n",
    "from urllib.request import urlretrieve\n",
    "url = \"https://raw.githubusercontent.com/btel/2021-uj-python-materials/master/data/countries.csv\"\n",
    "f = urlretrieve(url, filename='countries.csv')"
   ]
  },
  {
   "cell_type": "code",
   "execution_count": 3,
   "metadata": {},
   "outputs": [
    {
     "data": {
      "text/html": [
       "<div>\n",
       "<style scoped>\n",
       "    .dataframe tbody tr th:only-of-type {\n",
       "        vertical-align: middle;\n",
       "    }\n",
       "\n",
       "    .dataframe tbody tr th {\n",
       "        vertical-align: top;\n",
       "    }\n",
       "\n",
       "    .dataframe thead th {\n",
       "        text-align: right;\n",
       "    }\n",
       "</style>\n",
       "<table border=\"1\" class=\"dataframe\">\n",
       "  <thead>\n",
       "    <tr style=\"text-align: right;\">\n",
       "      <th></th>\n",
       "      <th>country</th>\n",
       "      <th>population</th>\n",
       "      <th>area</th>\n",
       "      <th>capital</th>\n",
       "    </tr>\n",
       "  </thead>\n",
       "  <tbody>\n",
       "    <tr>\n",
       "      <th>0</th>\n",
       "      <td>Belgium</td>\n",
       "      <td>11.3</td>\n",
       "      <td>30510</td>\n",
       "      <td>Brussels</td>\n",
       "    </tr>\n",
       "    <tr>\n",
       "      <th>1</th>\n",
       "      <td>France</td>\n",
       "      <td>64.3</td>\n",
       "      <td>671308</td>\n",
       "      <td>Paris</td>\n",
       "    </tr>\n",
       "    <tr>\n",
       "      <th>2</th>\n",
       "      <td>Germany</td>\n",
       "      <td>81.3</td>\n",
       "      <td>357050</td>\n",
       "      <td>Berlin</td>\n",
       "    </tr>\n",
       "    <tr>\n",
       "      <th>3</th>\n",
       "      <td>Netherlands</td>\n",
       "      <td>16.9</td>\n",
       "      <td>41526</td>\n",
       "      <td>Amsterdam</td>\n",
       "    </tr>\n",
       "    <tr>\n",
       "      <th>4</th>\n",
       "      <td>United Kingdom</td>\n",
       "      <td>64.9</td>\n",
       "      <td>244820</td>\n",
       "      <td>London</td>\n",
       "    </tr>\n",
       "  </tbody>\n",
       "</table>\n",
       "</div>"
      ],
      "text/plain": [
       "          country  population    area    capital\n",
       "0         Belgium        11.3   30510   Brussels\n",
       "1          France        64.3  671308      Paris\n",
       "2         Germany        81.3  357050     Berlin\n",
       "3     Netherlands        16.9   41526  Amsterdam\n",
       "4  United Kingdom        64.9  244820     London"
      ]
     },
     "execution_count": 3,
     "metadata": {},
     "output_type": "execute_result"
    }
   ],
   "source": [
    "import pandas as pd\n",
    "countries = pd.read_csv(\"countries.csv\")\n",
    "countries"
   ]
  },
  {
   "cell_type": "markdown",
   "metadata": {},
   "source": [
    "### Useful functions"
   ]
  },
  {
   "cell_type": "code",
   "execution_count": 4,
   "metadata": {},
   "outputs": [
    {
     "data": {
      "text/html": [
       "<div>\n",
       "<style scoped>\n",
       "    .dataframe tbody tr th:only-of-type {\n",
       "        vertical-align: middle;\n",
       "    }\n",
       "\n",
       "    .dataframe tbody tr th {\n",
       "        vertical-align: top;\n",
       "    }\n",
       "\n",
       "    .dataframe thead th {\n",
       "        text-align: right;\n",
       "    }\n",
       "</style>\n",
       "<table border=\"1\" class=\"dataframe\">\n",
       "  <thead>\n",
       "    <tr style=\"text-align: right;\">\n",
       "      <th></th>\n",
       "      <th>country</th>\n",
       "      <th>population</th>\n",
       "      <th>area</th>\n",
       "      <th>capital</th>\n",
       "    </tr>\n",
       "  </thead>\n",
       "  <tbody>\n",
       "    <tr>\n",
       "      <th>0</th>\n",
       "      <td>Belgium</td>\n",
       "      <td>11.3</td>\n",
       "      <td>30510</td>\n",
       "      <td>Brussels</td>\n",
       "    </tr>\n",
       "    <tr>\n",
       "      <th>1</th>\n",
       "      <td>France</td>\n",
       "      <td>64.3</td>\n",
       "      <td>671308</td>\n",
       "      <td>Paris</td>\n",
       "    </tr>\n",
       "  </tbody>\n",
       "</table>\n",
       "</div>"
      ],
      "text/plain": [
       "   country  population    area   capital\n",
       "0  Belgium        11.3   30510  Brussels\n",
       "1   France        64.3  671308     Paris"
      ]
     },
     "execution_count": 4,
     "metadata": {},
     "output_type": "execute_result"
    }
   ],
   "source": [
    "countries.head(n=2)"
   ]
  },
  {
   "cell_type": "code",
   "execution_count": 5,
   "metadata": {},
   "outputs": [
    {
     "data": {
      "text/html": [
       "<div>\n",
       "<style scoped>\n",
       "    .dataframe tbody tr th:only-of-type {\n",
       "        vertical-align: middle;\n",
       "    }\n",
       "\n",
       "    .dataframe tbody tr th {\n",
       "        vertical-align: top;\n",
       "    }\n",
       "\n",
       "    .dataframe thead th {\n",
       "        text-align: right;\n",
       "    }\n",
       "</style>\n",
       "<table border=\"1\" class=\"dataframe\">\n",
       "  <thead>\n",
       "    <tr style=\"text-align: right;\">\n",
       "      <th></th>\n",
       "      <th>population</th>\n",
       "      <th>area</th>\n",
       "    </tr>\n",
       "  </thead>\n",
       "  <tbody>\n",
       "    <tr>\n",
       "      <th>count</th>\n",
       "      <td>5.000000</td>\n",
       "      <td>5.000000</td>\n",
       "    </tr>\n",
       "    <tr>\n",
       "      <th>mean</th>\n",
       "      <td>47.740000</td>\n",
       "      <td>269042.800000</td>\n",
       "    </tr>\n",
       "    <tr>\n",
       "      <th>std</th>\n",
       "      <td>31.519645</td>\n",
       "      <td>264012.827994</td>\n",
       "    </tr>\n",
       "    <tr>\n",
       "      <th>min</th>\n",
       "      <td>11.300000</td>\n",
       "      <td>30510.000000</td>\n",
       "    </tr>\n",
       "    <tr>\n",
       "      <th>25%</th>\n",
       "      <td>16.900000</td>\n",
       "      <td>41526.000000</td>\n",
       "    </tr>\n",
       "    <tr>\n",
       "      <th>50%</th>\n",
       "      <td>64.300000</td>\n",
       "      <td>244820.000000</td>\n",
       "    </tr>\n",
       "    <tr>\n",
       "      <th>75%</th>\n",
       "      <td>64.900000</td>\n",
       "      <td>357050.000000</td>\n",
       "    </tr>\n",
       "    <tr>\n",
       "      <th>max</th>\n",
       "      <td>81.300000</td>\n",
       "      <td>671308.000000</td>\n",
       "    </tr>\n",
       "  </tbody>\n",
       "</table>\n",
       "</div>"
      ],
      "text/plain": [
       "       population           area\n",
       "count    5.000000       5.000000\n",
       "mean    47.740000  269042.800000\n",
       "std     31.519645  264012.827994\n",
       "min     11.300000   30510.000000\n",
       "25%     16.900000   41526.000000\n",
       "50%     64.300000  244820.000000\n",
       "75%     64.900000  357050.000000\n",
       "max     81.300000  671308.000000"
      ]
     },
     "execution_count": 5,
     "metadata": {},
     "output_type": "execute_result"
    }
   ],
   "source": [
    "countries.describe()"
   ]
  },
  {
   "cell_type": "markdown",
   "metadata": {},
   "source": [
    "<div class=\"alert alert-success\">\n",
    "\n",
    "**Quiz** What is the minimum and maximum population of the given countries.\n",
    "\n",
    "</div>"
   ]
  },
  {
   "cell_type": "markdown",
   "metadata": {},
   "source": [
    "### Indexing"
   ]
  },
  {
   "cell_type": "markdown",
   "metadata": {},
   "source": [
    "#### Indexing columns"
   ]
  },
  {
   "cell_type": "markdown",
   "metadata": {},
   "source": [
    "get a column"
   ]
  },
  {
   "cell_type": "code",
   "execution_count": 6,
   "metadata": {},
   "outputs": [
    {
     "data": {
      "text/plain": [
       "0    11.3\n",
       "1    64.3\n",
       "2    81.3\n",
       "3    16.9\n",
       "4    64.9\n",
       "Name: population, dtype: float64"
      ]
     },
     "execution_count": 6,
     "metadata": {},
     "output_type": "execute_result"
    }
   ],
   "source": [
    "countries['population']"
   ]
  },
  {
   "cell_type": "markdown",
   "metadata": {},
   "source": [
    "select several columns"
   ]
  },
  {
   "cell_type": "code",
   "execution_count": 7,
   "metadata": {},
   "outputs": [
    {
     "data": {
      "text/html": [
       "<div>\n",
       "<style scoped>\n",
       "    .dataframe tbody tr th:only-of-type {\n",
       "        vertical-align: middle;\n",
       "    }\n",
       "\n",
       "    .dataframe tbody tr th {\n",
       "        vertical-align: top;\n",
       "    }\n",
       "\n",
       "    .dataframe thead th {\n",
       "        text-align: right;\n",
       "    }\n",
       "</style>\n",
       "<table border=\"1\" class=\"dataframe\">\n",
       "  <thead>\n",
       "    <tr style=\"text-align: right;\">\n",
       "      <th></th>\n",
       "      <th>population</th>\n",
       "      <th>area</th>\n",
       "    </tr>\n",
       "  </thead>\n",
       "  <tbody>\n",
       "    <tr>\n",
       "      <th>0</th>\n",
       "      <td>11.3</td>\n",
       "      <td>30510</td>\n",
       "    </tr>\n",
       "    <tr>\n",
       "      <th>1</th>\n",
       "      <td>64.3</td>\n",
       "      <td>671308</td>\n",
       "    </tr>\n",
       "    <tr>\n",
       "      <th>2</th>\n",
       "      <td>81.3</td>\n",
       "      <td>357050</td>\n",
       "    </tr>\n",
       "    <tr>\n",
       "      <th>3</th>\n",
       "      <td>16.9</td>\n",
       "      <td>41526</td>\n",
       "    </tr>\n",
       "    <tr>\n",
       "      <th>4</th>\n",
       "      <td>64.9</td>\n",
       "      <td>244820</td>\n",
       "    </tr>\n",
       "  </tbody>\n",
       "</table>\n",
       "</div>"
      ],
      "text/plain": [
       "   population    area\n",
       "0        11.3   30510\n",
       "1        64.3  671308\n",
       "2        81.3  357050\n",
       "3        16.9   41526\n",
       "4        64.9  244820"
      ]
     },
     "execution_count": 7,
     "metadata": {},
     "output_type": "execute_result"
    }
   ],
   "source": [
    "countries[['population', 'area']]"
   ]
  },
  {
   "cell_type": "markdown",
   "metadata": {},
   "source": [
    "#### Indexing rows"
   ]
  },
  {
   "cell_type": "code",
   "execution_count": 8,
   "metadata": {},
   "outputs": [
    {
     "data": {
      "text/plain": [
       "country        Belgium\n",
       "population        11.3\n",
       "area             30510\n",
       "capital       Brussels\n",
       "Name: 0, dtype: object"
      ]
     },
     "execution_count": 8,
     "metadata": {},
     "output_type": "execute_result"
    }
   ],
   "source": [
    "countries.loc[0]"
   ]
  },
  {
   "cell_type": "markdown",
   "metadata": {},
   "source": [
    "#### Two-dimensional indexing"
   ]
  },
  {
   "cell_type": "code",
   "execution_count": 9,
   "metadata": {},
   "outputs": [
    {
     "data": {
      "text/plain": [
       "30510"
      ]
     },
     "execution_count": 9,
     "metadata": {},
     "output_type": "execute_result"
    }
   ],
   "source": [
    "countries.loc[0, \"area\"]"
   ]
  },
  {
   "cell_type": "markdown",
   "metadata": {},
   "source": [
    "<div class=\"alert alert-success\">\n",
    "    <b>EXERCISE</b>: Print the population of Germany\n",
    "</div>"
   ]
  },
  {
   "cell_type": "markdown",
   "metadata": {},
   "source": [
    "#### Dataframe index"
   ]
  },
  {
   "cell_type": "code",
   "execution_count": 10,
   "metadata": {},
   "outputs": [
    {
     "data": {
      "text/plain": [
       "RangeIndex(start=0, stop=5, step=1)"
      ]
     },
     "execution_count": 10,
     "metadata": {},
     "output_type": "execute_result"
    }
   ],
   "source": [
    "countries.index"
   ]
  },
  {
   "cell_type": "code",
   "execution_count": 11,
   "metadata": {},
   "outputs": [
    {
     "data": {
      "text/plain": [
       "Index(['country', 'population', 'area', 'capital'], dtype='object')"
      ]
     },
     "execution_count": 11,
     "metadata": {},
     "output_type": "execute_result"
    }
   ],
   "source": [
    "countries.columns"
   ]
  },
  {
   "cell_type": "code",
   "execution_count": 12,
   "metadata": {},
   "outputs": [
    {
     "data": {
      "text/html": [
       "<div>\n",
       "<style scoped>\n",
       "    .dataframe tbody tr th:only-of-type {\n",
       "        vertical-align: middle;\n",
       "    }\n",
       "\n",
       "    .dataframe tbody tr th {\n",
       "        vertical-align: top;\n",
       "    }\n",
       "\n",
       "    .dataframe thead th {\n",
       "        text-align: right;\n",
       "    }\n",
       "</style>\n",
       "<table border=\"1\" class=\"dataframe\">\n",
       "  <thead>\n",
       "    <tr style=\"text-align: right;\">\n",
       "      <th></th>\n",
       "      <th>population</th>\n",
       "      <th>area</th>\n",
       "      <th>capital</th>\n",
       "    </tr>\n",
       "    <tr>\n",
       "      <th>country</th>\n",
       "      <th></th>\n",
       "      <th></th>\n",
       "      <th></th>\n",
       "    </tr>\n",
       "  </thead>\n",
       "  <tbody>\n",
       "    <tr>\n",
       "      <th>Belgium</th>\n",
       "      <td>11.3</td>\n",
       "      <td>30510</td>\n",
       "      <td>Brussels</td>\n",
       "    </tr>\n",
       "    <tr>\n",
       "      <th>France</th>\n",
       "      <td>64.3</td>\n",
       "      <td>671308</td>\n",
       "      <td>Paris</td>\n",
       "    </tr>\n",
       "    <tr>\n",
       "      <th>Germany</th>\n",
       "      <td>81.3</td>\n",
       "      <td>357050</td>\n",
       "      <td>Berlin</td>\n",
       "    </tr>\n",
       "    <tr>\n",
       "      <th>Netherlands</th>\n",
       "      <td>16.9</td>\n",
       "      <td>41526</td>\n",
       "      <td>Amsterdam</td>\n",
       "    </tr>\n",
       "    <tr>\n",
       "      <th>United Kingdom</th>\n",
       "      <td>64.9</td>\n",
       "      <td>244820</td>\n",
       "      <td>London</td>\n",
       "    </tr>\n",
       "  </tbody>\n",
       "</table>\n",
       "</div>"
      ],
      "text/plain": [
       "                population    area    capital\n",
       "country                                      \n",
       "Belgium               11.3   30510   Brussels\n",
       "France                64.3  671308      Paris\n",
       "Germany               81.3  357050     Berlin\n",
       "Netherlands           16.9   41526  Amsterdam\n",
       "United Kingdom        64.9  244820     London"
      ]
     },
     "execution_count": 12,
     "metadata": {},
     "output_type": "execute_result"
    }
   ],
   "source": [
    "indexed = countries.set_index(\"country\")\n",
    "indexed"
   ]
  },
  {
   "cell_type": "markdown",
   "metadata": {},
   "source": [
    "#### Predictable indexing with .loc and .iloc"
   ]
  },
  {
   "cell_type": "markdown",
   "metadata": {},
   "source": [
    "select a row using special `.loc` or `.iloc` attributes:"
   ]
  },
  {
   "cell_type": "code",
   "execution_count": 13,
   "metadata": {},
   "outputs": [
    {
     "data": {
      "text/plain": [
       "population        11.3\n",
       "area             30510\n",
       "capital       Brussels\n",
       "Name: Belgium, dtype: object"
      ]
     },
     "execution_count": 13,
     "metadata": {},
     "output_type": "execute_result"
    }
   ],
   "source": [
    "indexed.loc[\"Belgium\", :]"
   ]
  },
  {
   "cell_type": "code",
   "execution_count": 14,
   "metadata": {},
   "outputs": [
    {
     "data": {
      "text/html": [
       "<div>\n",
       "<style scoped>\n",
       "    .dataframe tbody tr th:only-of-type {\n",
       "        vertical-align: middle;\n",
       "    }\n",
       "\n",
       "    .dataframe tbody tr th {\n",
       "        vertical-align: top;\n",
       "    }\n",
       "\n",
       "    .dataframe thead th {\n",
       "        text-align: right;\n",
       "    }\n",
       "</style>\n",
       "<table border=\"1\" class=\"dataframe\">\n",
       "  <thead>\n",
       "    <tr style=\"text-align: right;\">\n",
       "      <th></th>\n",
       "      <th>area</th>\n",
       "      <th>population</th>\n",
       "    </tr>\n",
       "    <tr>\n",
       "      <th>country</th>\n",
       "      <th></th>\n",
       "      <th></th>\n",
       "    </tr>\n",
       "  </thead>\n",
       "  <tbody>\n",
       "    <tr>\n",
       "      <th>Belgium</th>\n",
       "      <td>30510</td>\n",
       "      <td>11.3</td>\n",
       "    </tr>\n",
       "    <tr>\n",
       "      <th>France</th>\n",
       "      <td>671308</td>\n",
       "      <td>64.3</td>\n",
       "    </tr>\n",
       "  </tbody>\n",
       "</table>\n",
       "</div>"
      ],
      "text/plain": [
       "           area  population\n",
       "country                    \n",
       "Belgium   30510        11.3\n",
       "France   671308        64.3"
      ]
     },
     "execution_count": 14,
     "metadata": {},
     "output_type": "execute_result"
    }
   ],
   "source": [
    "indexed.loc[[\"Belgium\", \"France\"], [\"area\", \"population\"]]"
   ]
  },
  {
   "cell_type": "code",
   "execution_count": 15,
   "metadata": {},
   "outputs": [
    {
     "data": {
      "text/html": [
       "<div>\n",
       "<style scoped>\n",
       "    .dataframe tbody tr th:only-of-type {\n",
       "        vertical-align: middle;\n",
       "    }\n",
       "\n",
       "    .dataframe tbody tr th {\n",
       "        vertical-align: top;\n",
       "    }\n",
       "\n",
       "    .dataframe thead th {\n",
       "        text-align: right;\n",
       "    }\n",
       "</style>\n",
       "<table border=\"1\" class=\"dataframe\">\n",
       "  <thead>\n",
       "    <tr style=\"text-align: right;\">\n",
       "      <th></th>\n",
       "      <th>population</th>\n",
       "      <th>area</th>\n",
       "      <th>capital</th>\n",
       "    </tr>\n",
       "    <tr>\n",
       "      <th>country</th>\n",
       "      <th></th>\n",
       "      <th></th>\n",
       "      <th></th>\n",
       "    </tr>\n",
       "  </thead>\n",
       "  <tbody>\n",
       "    <tr>\n",
       "      <th>France</th>\n",
       "      <td>64.3</td>\n",
       "      <td>671308</td>\n",
       "      <td>Paris</td>\n",
       "    </tr>\n",
       "    <tr>\n",
       "      <th>Germany</th>\n",
       "      <td>81.3</td>\n",
       "      <td>357050</td>\n",
       "      <td>Berlin</td>\n",
       "    </tr>\n",
       "  </tbody>\n",
       "</table>\n",
       "</div>"
      ],
      "text/plain": [
       "         population    area capital\n",
       "country                            \n",
       "France         64.3  671308   Paris\n",
       "Germany        81.3  357050  Berlin"
      ]
     },
     "execution_count": 15,
     "metadata": {},
     "output_type": "execute_result"
    }
   ],
   "source": [
    "indexed.iloc[1:3, :]"
   ]
  },
  {
   "cell_type": "markdown",
   "metadata": {},
   "source": [
    "#### Filtering"
   ]
  },
  {
   "cell_type": "code",
   "execution_count": 16,
   "metadata": {},
   "outputs": [
    {
     "data": {
      "text/html": [
       "<div>\n",
       "<style scoped>\n",
       "    .dataframe tbody tr th:only-of-type {\n",
       "        vertical-align: middle;\n",
       "    }\n",
       "\n",
       "    .dataframe tbody tr th {\n",
       "        vertical-align: top;\n",
       "    }\n",
       "\n",
       "    .dataframe thead th {\n",
       "        text-align: right;\n",
       "    }\n",
       "</style>\n",
       "<table border=\"1\" class=\"dataframe\">\n",
       "  <thead>\n",
       "    <tr style=\"text-align: right;\">\n",
       "      <th></th>\n",
       "      <th>population</th>\n",
       "      <th>area</th>\n",
       "      <th>capital</th>\n",
       "    </tr>\n",
       "    <tr>\n",
       "      <th>country</th>\n",
       "      <th></th>\n",
       "      <th></th>\n",
       "      <th></th>\n",
       "    </tr>\n",
       "  </thead>\n",
       "  <tbody>\n",
       "    <tr>\n",
       "      <th>France</th>\n",
       "      <td>64.3</td>\n",
       "      <td>671308</td>\n",
       "      <td>Paris</td>\n",
       "    </tr>\n",
       "    <tr>\n",
       "      <th>Germany</th>\n",
       "      <td>81.3</td>\n",
       "      <td>357050</td>\n",
       "      <td>Berlin</td>\n",
       "    </tr>\n",
       "    <tr>\n",
       "      <th>United Kingdom</th>\n",
       "      <td>64.9</td>\n",
       "      <td>244820</td>\n",
       "      <td>London</td>\n",
       "    </tr>\n",
       "  </tbody>\n",
       "</table>\n",
       "</div>"
      ],
      "text/plain": [
       "                population    area capital\n",
       "country                                   \n",
       "France                64.3  671308   Paris\n",
       "Germany               81.3  357050  Berlin\n",
       "United Kingdom        64.9  244820  London"
      ]
     },
     "execution_count": 16,
     "metadata": {},
     "output_type": "execute_result"
    }
   ],
   "source": [
    "indexed[indexed['population']> 20]"
   ]
  },
  {
   "cell_type": "markdown",
   "metadata": {},
   "source": [
    "<div class=\"alert alert-success\">\n",
    "    \n",
    "**Quiz** Imagine that you get the DataFrame called `dinos` with the following content:\n",
    "\n",
    "\n",
    "sample | density | weight | species\n",
    "--- | --- | --- | --\n",
    "3 | 10 | 11 | Hydrosaurus\n",
    "1 | 9 | 5 | Diplodocus \n",
    "2 | 11 | 2 | Pterodactyl \n",
    "\n",
    "try to guess what each of the command will return:\n",
    "\n",
    "A) `dinos['density']`\n",
    "\n",
    "B) `dinos.iloc[1, 'species']`\n",
    "\n",
    "C) `dinos.loc[1, 'species']`\n",
    "\n",
    "D) `dinos.iloc[1:, 'weight']`\n",
    "\n",
    "E*) `dinos.loc[1:, 'weight']`\n",
    "    \n",
    "</div>"
   ]
  },
  {
   "cell_type": "markdown",
   "metadata": {},
   "source": [
    "## Calculations"
   ]
  },
  {
   "cell_type": "code",
   "execution_count": 17,
   "metadata": {},
   "outputs": [
    {
     "data": {
      "text/plain": [
       "0    11300.0\n",
       "1    64300.0\n",
       "2    81300.0\n",
       "3    16900.0\n",
       "4    64900.0\n",
       "Name: population, dtype: float64"
      ]
     },
     "execution_count": 17,
     "metadata": {},
     "output_type": "execute_result"
    }
   ],
   "source": [
    "countries['population'] * 1000"
   ]
  },
  {
   "cell_type": "markdown",
   "metadata": {},
   "source": [
    "<div class=\"alert alert-success\">\n",
    "    <b>EXERCISE</b>: Calculate how big is the population of each country relative to France\n",
    "</div>"
   ]
  },
  {
   "cell_type": "code",
   "execution_count": 18,
   "metadata": {},
   "outputs": [
    {
     "data": {
      "text/plain": [
       "population        47.74\n",
       "area          269042.80\n",
       "dtype: float64"
      ]
     },
     "execution_count": 18,
     "metadata": {},
     "output_type": "execute_result"
    }
   ],
   "source": [
    "countries.mean()"
   ]
  },
  {
   "cell_type": "code",
   "execution_count": 19,
   "metadata": {},
   "outputs": [
    {
     "data": {
      "text/plain": [
       "country       BelgiumFranceGermanyNetherlandsUnited Kingdom\n",
       "population                                            238.7\n",
       "area                                                1345214\n",
       "capital                  BrusselsParisBerlinAmsterdamLondon\n",
       "dtype: object"
      ]
     },
     "execution_count": 19,
     "metadata": {},
     "output_type": "execute_result"
    }
   ],
   "source": [
    "countries.sum()"
   ]
  },
  {
   "cell_type": "code",
   "execution_count": 20,
   "metadata": {},
   "outputs": [
    {
     "data": {
      "text/html": [
       "<div>\n",
       "<style scoped>\n",
       "    .dataframe tbody tr th:only-of-type {\n",
       "        vertical-align: middle;\n",
       "    }\n",
       "\n",
       "    .dataframe tbody tr th {\n",
       "        vertical-align: top;\n",
       "    }\n",
       "\n",
       "    .dataframe thead th {\n",
       "        text-align: right;\n",
       "    }\n",
       "</style>\n",
       "<table border=\"1\" class=\"dataframe\">\n",
       "  <thead>\n",
       "    <tr style=\"text-align: right;\">\n",
       "      <th></th>\n",
       "      <th>country</th>\n",
       "      <th>population</th>\n",
       "      <th>area</th>\n",
       "      <th>capital</th>\n",
       "    </tr>\n",
       "  </thead>\n",
       "  <tbody>\n",
       "    <tr>\n",
       "      <th>0</th>\n",
       "      <td>Belgium</td>\n",
       "      <td>11.3</td>\n",
       "      <td>30510</td>\n",
       "      <td>Brussels</td>\n",
       "    </tr>\n",
       "    <tr>\n",
       "      <th>1</th>\n",
       "      <td>France</td>\n",
       "      <td>64.3</td>\n",
       "      <td>671308</td>\n",
       "      <td>Paris</td>\n",
       "    </tr>\n",
       "    <tr>\n",
       "      <th>2</th>\n",
       "      <td>Germany</td>\n",
       "      <td>81.3</td>\n",
       "      <td>357050</td>\n",
       "      <td>Berlin</td>\n",
       "    </tr>\n",
       "    <tr>\n",
       "      <th>3</th>\n",
       "      <td>Netherlands</td>\n",
       "      <td>16.9</td>\n",
       "      <td>41526</td>\n",
       "      <td>Amsterdam</td>\n",
       "    </tr>\n",
       "    <tr>\n",
       "      <th>4</th>\n",
       "      <td>United Kingdom</td>\n",
       "      <td>64.9</td>\n",
       "      <td>244820</td>\n",
       "      <td>London</td>\n",
       "    </tr>\n",
       "  </tbody>\n",
       "</table>\n",
       "</div>"
      ],
      "text/plain": [
       "          country  population    area    capital\n",
       "0         Belgium        11.3   30510   Brussels\n",
       "1          France        64.3  671308      Paris\n",
       "2         Germany        81.3  357050     Berlin\n",
       "3     Netherlands        16.9   41526  Amsterdam\n",
       "4  United Kingdom        64.9  244820     London"
      ]
     },
     "execution_count": 20,
     "metadata": {},
     "output_type": "execute_result"
    }
   ],
   "source": [
    "countries.sort_index()"
   ]
  },
  {
   "cell_type": "code",
   "execution_count": 21,
   "metadata": {},
   "outputs": [
    {
     "data": {
      "text/html": [
       "<div>\n",
       "<style scoped>\n",
       "    .dataframe tbody tr th:only-of-type {\n",
       "        vertical-align: middle;\n",
       "    }\n",
       "\n",
       "    .dataframe tbody tr th {\n",
       "        vertical-align: top;\n",
       "    }\n",
       "\n",
       "    .dataframe thead th {\n",
       "        text-align: right;\n",
       "    }\n",
       "</style>\n",
       "<table border=\"1\" class=\"dataframe\">\n",
       "  <thead>\n",
       "    <tr style=\"text-align: right;\">\n",
       "      <th></th>\n",
       "      <th>country</th>\n",
       "      <th>population</th>\n",
       "      <th>area</th>\n",
       "      <th>capital</th>\n",
       "    </tr>\n",
       "  </thead>\n",
       "  <tbody>\n",
       "    <tr>\n",
       "      <th>0</th>\n",
       "      <td>Belgium</td>\n",
       "      <td>11.3</td>\n",
       "      <td>30510</td>\n",
       "      <td>Brussels</td>\n",
       "    </tr>\n",
       "    <tr>\n",
       "      <th>3</th>\n",
       "      <td>Netherlands</td>\n",
       "      <td>16.9</td>\n",
       "      <td>41526</td>\n",
       "      <td>Amsterdam</td>\n",
       "    </tr>\n",
       "    <tr>\n",
       "      <th>1</th>\n",
       "      <td>France</td>\n",
       "      <td>64.3</td>\n",
       "      <td>671308</td>\n",
       "      <td>Paris</td>\n",
       "    </tr>\n",
       "    <tr>\n",
       "      <th>4</th>\n",
       "      <td>United Kingdom</td>\n",
       "      <td>64.9</td>\n",
       "      <td>244820</td>\n",
       "      <td>London</td>\n",
       "    </tr>\n",
       "    <tr>\n",
       "      <th>2</th>\n",
       "      <td>Germany</td>\n",
       "      <td>81.3</td>\n",
       "      <td>357050</td>\n",
       "      <td>Berlin</td>\n",
       "    </tr>\n",
       "  </tbody>\n",
       "</table>\n",
       "</div>"
      ],
      "text/plain": [
       "          country  population    area    capital\n",
       "0         Belgium        11.3   30510   Brussels\n",
       "3     Netherlands        16.9   41526  Amsterdam\n",
       "1          France        64.3  671308      Paris\n",
       "4  United Kingdom        64.9  244820     London\n",
       "2         Germany        81.3  357050     Berlin"
      ]
     },
     "execution_count": 21,
     "metadata": {},
     "output_type": "execute_result"
    }
   ],
   "source": [
    "countries.sort_values(by='population')"
   ]
  },
  {
   "cell_type": "markdown",
   "metadata": {},
   "source": [
    "<div class=\"alert alert-success\">\n",
    "    <b>EXERCISE</b>: Calculate the total population of 3 largest countries (area-wise)\n",
    "</div>"
   ]
  },
  {
   "cell_type": "markdown",
   "metadata": {},
   "source": [
    "## Plotting"
   ]
  },
  {
   "cell_type": "code",
   "execution_count": 22,
   "metadata": {},
   "outputs": [
    {
     "data": {
      "text/plain": [
       "<AxesSubplot:xlabel='country'>"
      ]
     },
     "execution_count": 22,
     "metadata": {},
     "output_type": "execute_result"
    },
    {
     "data": {
      "image/png": "[encoded data removed]",
      "text/plain": [
       "<Figure size 432x288 with 1 Axes>"
      ]
     },
     "metadata": {
      "needs_background": "light"
     },
     "output_type": "display_data"
    }
   ],
   "source": [
    "indexed['population'].plot()"
   ]
  },
  {
   "cell_type": "code",
   "execution_count": 23,
   "metadata": {},
   "outputs": [
    {
     "data": {
      "text/plain": [
       "<AxesSubplot:xlabel='country'>"
      ]
     },
     "execution_count": 23,
     "metadata": {},
     "output_type": "execute_result"
    },
    {
     "data": {
      "image/png": "[encoded data removed]",
      "text/plain": [
       "<Figure size 432x288 with 1 Axes>"
      ]
     },
     "metadata": {
      "needs_background": "light"
     },
     "output_type": "display_data"
    }
   ],
   "source": [
    "indexed['population'].plot(kind='bar')"
   ]
  },
  {
   "cell_type": "code",
   "execution_count": 24,
   "metadata": {},
   "outputs": [
    {
     "data": {
      "text/plain": [
       "<AxesSubplot:xlabel='area', ylabel='population'>"
      ]
     },
     "execution_count": 24,
     "metadata": {},
     "output_type": "execute_result"
    },
    {
     "data": {
      "image/png": "[encoded data removed]",
      "text/plain": [
       "<Figure size 432x288 with 1 Axes>"
      ]
     },
     "metadata": {
      "needs_background": "light"
     },
     "output_type": "display_data"
    }
   ],
   "source": [
    "indexed.plot(kind='scatter', x='area', y='population')"
   ]
  },
  {
   "cell_type": "markdown",
   "metadata": {},
   "source": [
    "<div class=\"alert alert-success\">\n",
    "    <b>EXERCISE</b>: Calculate and plot the population density in each country as a bar plot\n",
    "</div>"
   ]
  },
  {
   "cell_type": "markdown",
   "metadata": {},
   "source": [
    "# Working with multiple data sources"
   ]
  },
  {
   "cell_type": "markdown",
   "metadata": {},
   "source": [
    "## Series\n",
    "\n",
    "A Series is a basic holder for **one-dimensional labeled data**. It can be created like a NumPy array:"
   ]
  },
  {
   "cell_type": "code",
   "execution_count": 25,
   "metadata": {
    "collapsed": false,
    "jupyter": {
     "outputs_hidden": false
    }
   },
   "outputs": [
    {
     "data": {
      "text/plain": [
       "0    0.1\n",
       "1    0.2\n",
       "2    0.3\n",
       "3    0.4\n",
       "dtype: float64"
      ]
     },
     "execution_count": 25,
     "metadata": {},
     "output_type": "execute_result"
    }
   ],
   "source": [
    "s = pd.Series([0.1, 0.2, 0.3, 0.4])\n",
    "s"
   ]
  },
  {
   "cell_type": "markdown",
   "metadata": {},
   "source": [
    "### Creating Series from dictionary"
   ]
  },
  {
   "cell_type": "markdown",
   "metadata": {},
   "source": [
    "It's possible to construct a series directly from a Python dictionary. Let's first define the dictionary of GDP in 2007:"
   ]
  },
  {
   "cell_type": "code",
   "execution_count": 45,
   "metadata": {
    "collapsed": false,
    "jupyter": {
     "outputs_hidden": false
    }
   },
   "outputs": [],
   "source": [
    "gdp_dict = {\n",
    " 'France': 30470,\n",
    " 'Germany': 32170,\n",
    " 'United Kingdom': 33203,\n",
    " 'Belgium': 33692,\n",
    " 'Netherlands': 36797,\n",
    " 'Albania': 5937}"
   ]
  },
  {
   "cell_type": "code",
   "execution_count": 47,
   "metadata": {},
   "outputs": [
    {
     "data": {
      "text/plain": [
       "France            30470\n",
       "Germany           32170\n",
       "United Kingdom    33203\n",
       "Belgium           33692\n",
       "Netherlands       36797\n",
       "Albania            5937\n",
       "dtype: int64"
      ]
     },
     "execution_count": 47,
     "metadata": {},
     "output_type": "execute_result"
    }
   ],
   "source": [
    "pd.Series(gdp_dict)"
   ]
  },
  {
   "cell_type": "markdown",
   "metadata": {},
   "source": [
    "Now we construct a `Series` object from the dictionary."
   ]
  },
  {
   "cell_type": "code",
   "execution_count": 27,
   "metadata": {
    "collapsed": false,
    "jupyter": {
     "outputs_hidden": false
    }
   },
   "outputs": [
    {
     "data": {
      "text/plain": [
       "France            30470\n",
       "Germany           32170\n",
       "United Kingdom    33203\n",
       "Belgium           33692\n",
       "Netherlands       36797\n",
       "Albania            5937\n",
       "dtype: int64"
      ]
     },
     "execution_count": 27,
     "metadata": {},
     "output_type": "execute_result"
    }
   ],
   "source": [
    "gdp = pd.Series(gdp_dict)\n",
    "gdp"
   ]
  },
  {
   "cell_type": "markdown",
   "metadata": {},
   "source": [
    "### Automatic alignment"
   ]
  },
  {
   "cell_type": "code",
   "execution_count": 28,
   "metadata": {},
   "outputs": [
    {
     "data": {
      "text/plain": [
       "Albania                 NaN\n",
       "Belgium            380719.6\n",
       "France            1959221.0\n",
       "Germany           2615421.0\n",
       "Netherlands        621869.3\n",
       "United Kingdom    2154874.7\n",
       "dtype: float64"
      ]
     },
     "execution_count": 28,
     "metadata": {},
     "output_type": "execute_result"
    }
   ],
   "source": [
    "indexed['population'] * gdp"
   ]
  },
  {
   "cell_type": "markdown",
   "metadata": {},
   "source": [
    "## Adding column to a dataset"
   ]
  },
  {
   "cell_type": "markdown",
   "metadata": {},
   "source": [
    "Most novel information is hidden in **relations** between several data sets. Hardly, ever you will find all relevant information in a single table."
   ]
  },
  {
   "cell_type": "markdown",
   "metadata": {},
   "source": [
    "You can add a column to a dataframe, which will be also automatically aligned"
   ]
  },
  {
   "cell_type": "code",
   "execution_count": 29,
   "metadata": {},
   "outputs": [],
   "source": [
    "indexed[\"gdp\"] = gdp"
   ]
  },
  {
   "cell_type": "code",
   "execution_count": 30,
   "metadata": {},
   "outputs": [
    {
     "data": {
      "text/html": [
       "<div>\n",
       "<style scoped>\n",
       "    .dataframe tbody tr th:only-of-type {\n",
       "        vertical-align: middle;\n",
       "    }\n",
       "\n",
       "    .dataframe tbody tr th {\n",
       "        vertical-align: top;\n",
       "    }\n",
       "\n",
       "    .dataframe thead th {\n",
       "        text-align: right;\n",
       "    }\n",
       "</style>\n",
       "<table border=\"1\" class=\"dataframe\">\n",
       "  <thead>\n",
       "    <tr style=\"text-align: right;\">\n",
       "      <th></th>\n",
       "      <th>population</th>\n",
       "      <th>area</th>\n",
       "      <th>capital</th>\n",
       "      <th>gdp</th>\n",
       "    </tr>\n",
       "    <tr>\n",
       "      <th>country</th>\n",
       "      <th></th>\n",
       "      <th></th>\n",
       "      <th></th>\n",
       "      <th></th>\n",
       "    </tr>\n",
       "  </thead>\n",
       "  <tbody>\n",
       "    <tr>\n",
       "      <th>Belgium</th>\n",
       "      <td>11.3</td>\n",
       "      <td>30510</td>\n",
       "      <td>Brussels</td>\n",
       "      <td>33692</td>\n",
       "    </tr>\n",
       "    <tr>\n",
       "      <th>France</th>\n",
       "      <td>64.3</td>\n",
       "      <td>671308</td>\n",
       "      <td>Paris</td>\n",
       "      <td>30470</td>\n",
       "    </tr>\n",
       "    <tr>\n",
       "      <th>Germany</th>\n",
       "      <td>81.3</td>\n",
       "      <td>357050</td>\n",
       "      <td>Berlin</td>\n",
       "      <td>32170</td>\n",
       "    </tr>\n",
       "    <tr>\n",
       "      <th>Netherlands</th>\n",
       "      <td>16.9</td>\n",
       "      <td>41526</td>\n",
       "      <td>Amsterdam</td>\n",
       "      <td>36797</td>\n",
       "    </tr>\n",
       "    <tr>\n",
       "      <th>United Kingdom</th>\n",
       "      <td>64.9</td>\n",
       "      <td>244820</td>\n",
       "      <td>London</td>\n",
       "      <td>33203</td>\n",
       "    </tr>\n",
       "  </tbody>\n",
       "</table>\n",
       "</div>"
      ],
      "text/plain": [
       "                population    area    capital    gdp\n",
       "country                                             \n",
       "Belgium               11.3   30510   Brussels  33692\n",
       "France                64.3  671308      Paris  30470\n",
       "Germany               81.3  357050     Berlin  32170\n",
       "Netherlands           16.9   41526  Amsterdam  36797\n",
       "United Kingdom        64.9  244820     London  33203"
      ]
     },
     "execution_count": 30,
     "metadata": {},
     "output_type": "execute_result"
    }
   ],
   "source": [
    "indexed"
   ]
  },
  {
   "cell_type": "markdown",
   "metadata": {},
   "source": [
    "**Note** Albania is missing from the list, because it was not included in our DataFrame with countries"
   ]
  },
  {
   "cell_type": "markdown",
   "metadata": {},
   "source": [
    "this changed the dataframe **in place**, but you can also create a new dataframe with:"
   ]
  },
  {
   "cell_type": "markdown",
   "metadata": {},
   "source": [
    "## Combining two datasets "
   ]
  },
  {
   "cell_type": "markdown",
   "metadata": {},
   "source": [
    "### Creating dataframes in Python"
   ]
  },
  {
   "cell_type": "code",
   "execution_count": 31,
   "metadata": {},
   "outputs": [
    {
     "data": {
      "text/html": [
       "<div>\n",
       "<style scoped>\n",
       "    .dataframe tbody tr th:only-of-type {\n",
       "        vertical-align: middle;\n",
       "    }\n",
       "\n",
       "    .dataframe tbody tr th {\n",
       "        vertical-align: top;\n",
       "    }\n",
       "\n",
       "    .dataframe thead th {\n",
       "        text-align: right;\n",
       "    }\n",
       "</style>\n",
       "<table border=\"1\" class=\"dataframe\">\n",
       "  <thead>\n",
       "    <tr style=\"text-align: right;\">\n",
       "      <th></th>\n",
       "      <th>inhabitants</th>\n",
       "      <th>city_area</th>\n",
       "    </tr>\n",
       "    <tr>\n",
       "      <th>city</th>\n",
       "      <th></th>\n",
       "      <th></th>\n",
       "    </tr>\n",
       "  </thead>\n",
       "  <tbody>\n",
       "    <tr>\n",
       "      <th>Paris</th>\n",
       "      <td>11.2</td>\n",
       "      <td>1</td>\n",
       "    </tr>\n",
       "    <tr>\n",
       "      <th>London</th>\n",
       "      <td>14.0</td>\n",
       "      <td>1</td>\n",
       "    </tr>\n",
       "  </tbody>\n",
       "</table>\n",
       "</div>"
      ],
      "text/plain": [
       "        inhabitants  city_area\n",
       "city                          \n",
       "Paris          11.2          1\n",
       "London         14.0          1"
      ]
     },
     "execution_count": 31,
     "metadata": {},
     "output_type": "execute_result"
    }
   ],
   "source": [
    "cities = pd.DataFrame({\n",
    "    \"city\": [\"Paris\", \"London\"], \"inhabitants\": [11.2, 14], \"city_area\":[1, 1]}).set_index(\"city\")\n",
    "cities"
   ]
  },
  {
   "cell_type": "markdown",
   "metadata": {},
   "source": [
    "### Joining two dataframes"
   ]
  },
  {
   "cell_type": "markdown",
   "metadata": {},
   "source": [
    "alternatively you can join two dataframes by any column"
   ]
  },
  {
   "cell_type": "code",
   "execution_count": 32,
   "metadata": {},
   "outputs": [
    {
     "data": {
      "text/html": [
       "<div>\n",
       "<style scoped>\n",
       "    .dataframe tbody tr th:only-of-type {\n",
       "        vertical-align: middle;\n",
       "    }\n",
       "\n",
       "    .dataframe tbody tr th {\n",
       "        vertical-align: top;\n",
       "    }\n",
       "\n",
       "    .dataframe thead th {\n",
       "        text-align: right;\n",
       "    }\n",
       "</style>\n",
       "<table border=\"1\" class=\"dataframe\">\n",
       "  <thead>\n",
       "    <tr style=\"text-align: right;\">\n",
       "      <th></th>\n",
       "      <th>population</th>\n",
       "      <th>area</th>\n",
       "      <th>capital</th>\n",
       "      <th>gdp</th>\n",
       "      <th>inhabitants</th>\n",
       "      <th>city_area</th>\n",
       "    </tr>\n",
       "    <tr>\n",
       "      <th>country</th>\n",
       "      <th></th>\n",
       "      <th></th>\n",
       "      <th></th>\n",
       "      <th></th>\n",
       "      <th></th>\n",
       "      <th></th>\n",
       "    </tr>\n",
       "  </thead>\n",
       "  <tbody>\n",
       "    <tr>\n",
       "      <th>Belgium</th>\n",
       "      <td>11.3</td>\n",
       "      <td>30510</td>\n",
       "      <td>Brussels</td>\n",
       "      <td>33692</td>\n",
       "      <td>NaN</td>\n",
       "      <td>NaN</td>\n",
       "    </tr>\n",
       "    <tr>\n",
       "      <th>France</th>\n",
       "      <td>64.3</td>\n",
       "      <td>671308</td>\n",
       "      <td>Paris</td>\n",
       "      <td>30470</td>\n",
       "      <td>11.2</td>\n",
       "      <td>1.0</td>\n",
       "    </tr>\n",
       "    <tr>\n",
       "      <th>Germany</th>\n",
       "      <td>81.3</td>\n",
       "      <td>357050</td>\n",
       "      <td>Berlin</td>\n",
       "      <td>32170</td>\n",
       "      <td>NaN</td>\n",
       "      <td>NaN</td>\n",
       "    </tr>\n",
       "    <tr>\n",
       "      <th>Netherlands</th>\n",
       "      <td>16.9</td>\n",
       "      <td>41526</td>\n",
       "      <td>Amsterdam</td>\n",
       "      <td>36797</td>\n",
       "      <td>NaN</td>\n",
       "      <td>NaN</td>\n",
       "    </tr>\n",
       "    <tr>\n",
       "      <th>United Kingdom</th>\n",
       "      <td>64.9</td>\n",
       "      <td>244820</td>\n",
       "      <td>London</td>\n",
       "      <td>33203</td>\n",
       "      <td>14.0</td>\n",
       "      <td>1.0</td>\n",
       "    </tr>\n",
       "  </tbody>\n",
       "</table>\n",
       "</div>"
      ],
      "text/plain": [
       "                population    area    capital    gdp  inhabitants  city_area\n",
       "country                                                                     \n",
       "Belgium               11.3   30510   Brussels  33692          NaN        NaN\n",
       "France                64.3  671308      Paris  30470         11.2        1.0\n",
       "Germany               81.3  357050     Berlin  32170          NaN        NaN\n",
       "Netherlands           16.9   41526  Amsterdam  36797          NaN        NaN\n",
       "United Kingdom        64.9  244820     London  33203         14.0        1.0"
      ]
     },
     "execution_count": 32,
     "metadata": {},
     "output_type": "execute_result"
    }
   ],
   "source": [
    "indexed.join(cities, on='capital')"
   ]
  },
  {
   "cell_type": "code",
   "execution_count": null,
   "metadata": {},
   "outputs": [],
   "source": []
  },
  {
   "cell_type": "markdown",
   "metadata": {},
   "source": [
    "<div class=\"alert alert-success\">\n",
    "    <b>Exercise</b> Imagine that you obtained this data from analysis of your experimental samples:\n",
    "\n",
    "\n",
    "```python\n",
    "samples = pd.DataFrame(\n",
    "    {\"Sample_id\": [\"A\", \"B\", \"C\"], \n",
    "     \"Xray_density\": [10, 9.2, 11.2],\n",
    "     \"Weight\": [11.0, 5.1, 5.2],\n",
    "     \"Species\": [\"Hydrosaurus\", \"Diplodocus\", \"Pterodactyl\"]})\n",
    "```\n",
    "\n",
    "Your collaborators sent you a table with anatomical data of the knows species:\n",
    "\n",
    "```python\n",
    "species = pd.DataFrame({\n",
    "    \"Species\": [\"Diplodocus\", \"Pterodactyl\", \"Stegosaurus\"],\n",
    "    \"Length (m)\": [24, 10, 9],\n",
    "    \"Mass (kg)\": [14800, 250, 5300],\n",
    "})\n",
    "```\n",
    "\n",
    "Combine these data into a single dataframe \n",
    "\n",
    "Hint: you might have to change the index of one of the dataframes.\n",
    "</div>"
   ]
  },
  {
   "cell_type": "code",
   "execution_count": 33,
   "metadata": {},
   "outputs": [],
   "source": [
    "# samples.join(species.set_index('Species'), on='Species')"
   ]
  },
  {
   "cell_type": "markdown",
   "metadata": {},
   "source": [
    "# Bonus: Data scraping and Groupby"
   ]
  },
  {
   "cell_type": "code",
   "execution_count": 34,
   "metadata": {},
   "outputs": [],
   "source": [
    "df = pd.read_html(\"https://en.wikipedia.org/wiki/List_of_European_cities_by_population_within_city_limits\")[0]"
   ]
  },
  {
   "cell_type": "code",
   "execution_count": 35,
   "metadata": {},
   "outputs": [],
   "source": [
    "df = pd.read_html(\"data/capitals.html\")[0]"
   ]
  },
  {
   "cell_type": "markdown",
   "metadata": {},
   "source": [
    "Groupby allows to group rows by a common value of a column and apply an aggregating function (mean, sum, etc) to all the rows having the same grouping column value (similar to GROUP BY known from SQL) It's best to try it in practice"
   ]
  },
  {
   "cell_type": "code",
   "execution_count": 36,
   "metadata": {},
   "outputs": [
    {
     "data": {
      "text/html": [
       "<div>\n",
       "<style scoped>\n",
       "    .dataframe tbody tr th:only-of-type {\n",
       "        vertical-align: middle;\n",
       "    }\n",
       "\n",
       "    .dataframe tbody tr th {\n",
       "        vertical-align: top;\n",
       "    }\n",
       "\n",
       "    .dataframe thead th {\n",
       "        text-align: right;\n",
       "    }\n",
       "</style>\n",
       "<table border=\"1\" class=\"dataframe\">\n",
       "  <thead>\n",
       "    <tr style=\"text-align: right;\">\n",
       "      <th></th>\n",
       "      <th>Unnamed: 0</th>\n",
       "      <th>Officialpopulation</th>\n",
       "      <th>2011 Eurostatpopulation[1]</th>\n",
       "      <th>Image</th>\n",
       "    </tr>\n",
       "    <tr>\n",
       "      <th>Country</th>\n",
       "      <th></th>\n",
       "      <th></th>\n",
       "      <th></th>\n",
       "      <th></th>\n",
       "    </tr>\n",
       "  </thead>\n",
       "  <tbody>\n",
       "    <tr>\n",
       "      <th>Russia</th>\n",
       "      <td>234</td>\n",
       "      <td>27047440</td>\n",
       "      <td>0.0</td>\n",
       "      <td>0.0</td>\n",
       "    </tr>\n",
       "    <tr>\n",
       "      <th>Turkey</th>\n",
       "      <td>32</td>\n",
       "      <td>16574679</td>\n",
       "      <td>0.0</td>\n",
       "      <td>0.0</td>\n",
       "    </tr>\n",
       "    <tr>\n",
       "      <th>United Kingdom</th>\n",
       "      <td>28</td>\n",
       "      <td>10349366</td>\n",
       "      <td>9246986.0</td>\n",
       "      <td>0.0</td>\n",
       "    </tr>\n",
       "    <tr>\n",
       "      <th>Germany</th>\n",
       "      <td>65</td>\n",
       "      <td>8204480</td>\n",
       "      <td>7632468.0</td>\n",
       "      <td>0.0</td>\n",
       "    </tr>\n",
       "    <tr>\n",
       "      <th>...</th>\n",
       "      <td>...</td>\n",
       "      <td>...</td>\n",
       "      <td>...</td>\n",
       "      <td>...</td>\n",
       "    </tr>\n",
       "    <tr>\n",
       "      <th>Serbia</th>\n",
       "      <td>20</td>\n",
       "      <td>1397939</td>\n",
       "      <td>0.0</td>\n",
       "      <td>0.0</td>\n",
       "    </tr>\n",
       "    <tr>\n",
       "      <th>Czech Republic</th>\n",
       "      <td>21</td>\n",
       "      <td>1324277</td>\n",
       "      <td>1241664.0</td>\n",
       "      <td>0.0</td>\n",
       "    </tr>\n",
       "    <tr>\n",
       "      <th>Bulgaria</th>\n",
       "      <td>24</td>\n",
       "      <td>1238438</td>\n",
       "      <td>1324025.0</td>\n",
       "      <td>0.0</td>\n",
       "    </tr>\n",
       "    <tr>\n",
       "      <th>Belgium</th>\n",
       "      <td>26</td>\n",
       "      <td>1211035</td>\n",
       "      <td>1136778.0</td>\n",
       "      <td>0.0</td>\n",
       "    </tr>\n",
       "  </tbody>\n",
       "</table>\n",
       "<p>17 rows × 4 columns</p>\n",
       "</div>"
      ],
      "text/plain": [
       "                Unnamed: 0  Officialpopulation  2011 Eurostatpopulation[1]  \\\n",
       "Country                                                                      \n",
       "Russia                 234            27047440                         0.0   \n",
       "Turkey                  32            16574679                         0.0   \n",
       "United Kingdom          28            10349366                   9246986.0   \n",
       "Germany                 65             8204480                   7632468.0   \n",
       "...                    ...                 ...                         ...   \n",
       "Serbia                  20             1397939                         0.0   \n",
       "Czech Republic          21             1324277                   1241664.0   \n",
       "Bulgaria                24             1238438                   1324025.0   \n",
       "Belgium                 26             1211035                   1136778.0   \n",
       "\n",
       "                Image  \n",
       "Country                \n",
       "Russia            0.0  \n",
       "Turkey            0.0  \n",
       "United Kingdom    0.0  \n",
       "Germany           0.0  \n",
       "...               ...  \n",
       "Serbia            0.0  \n",
       "Czech Republic    0.0  \n",
       "Bulgaria          0.0  \n",
       "Belgium           0.0  \n",
       "\n",
       "[17 rows x 4 columns]"
      ]
     },
     "execution_count": 36,
     "metadata": {},
     "output_type": "execute_result"
    }
   ],
   "source": [
    "df.groupby('Country').sum().sort_values(\"Officialpopulation\", ascending=False)"
   ]
  },
  {
   "cell_type": "markdown",
   "metadata": {},
   "source": [
    "## Reshape"
   ]
  },
  {
   "cell_type": "markdown",
   "metadata": {},
   "source": [
    "Hadley Wickham, Tidy Data, https://vita.had.co.nz/papers/tidy-data.pdf, Journal of Statistical Software"
   ]
  },
  {
   "attachments": {
    "9a3af8fe-4e22-42e0-b22d-afad057b109d.png": {
     "image/png": "[encoded data removed]"
    },
    "9d56b399-ce64-4b28-bdaa-877feb6c9e78.png": {
     "image/png": "[encoded data removed]"
    }
   },
   "cell_type": "markdown",
   "metadata": {},
   "source": [
    "**Quiz** Which of the two data frames is in *wide* format, which one is in *long\" format\n",
    "\n",
    "Table 1:\n",
    "\n",
    "![image.png](attachment:9a3af8fe-4e22-42e0-b22d-afad057b109d.png)\n",
    "\n",
    "\n",
    "Table 2:\n",
    "\n",
    "![image.png](attachment:9d56b399-ce64-4b28-bdaa-877feb6c9e78.png)\n",
    "\n",
    "\n",
    "Example by Tom Augspurger, downloaded from: https://tomaugspurger.github.io/modern-5-tidy"
   ]
  },
  {
   "cell_type": "code",
   "execution_count": 37,
   "metadata": {},
   "outputs": [],
   "source": [
    "tables = pd.read_html(\"http://www.basketball-reference.com/leagues/NBA_2016_games.html\")"
   ]
  },
  {
   "cell_type": "markdown",
   "metadata": {},
   "source": [
    "Common fuctions used to convert the shape of the dataframe:\n",
    "\n",
    "* `pivot`\n",
    "* hierachical index\n",
    "* `stack/unstack`\n",
    "* `melt`"
   ]
  },
  {
   "cell_type": "markdown",
   "metadata": {},
   "source": [
    "GDP data set is wide:"
   ]
  },
  {
   "cell_type": "code",
   "execution_count": 38,
   "metadata": {},
   "outputs": [
    {
     "data": {
      "text/html": [
       "<div>\n",
       "<style scoped>\n",
       "    .dataframe tbody tr th:only-of-type {\n",
       "        vertical-align: middle;\n",
       "    }\n",
       "\n",
       "    .dataframe tbody tr th {\n",
       "        vertical-align: top;\n",
       "    }\n",
       "\n",
       "    .dataframe thead th {\n",
       "        text-align: right;\n",
       "    }\n",
       "</style>\n",
       "<table border=\"1\" class=\"dataframe\">\n",
       "  <thead>\n",
       "    <tr style=\"text-align: right;\">\n",
       "      <th></th>\n",
       "      <th>country</th>\n",
       "      <th>gdpPercap_1952</th>\n",
       "      <th>gdpPercap_1957</th>\n",
       "      <th>gdpPercap_1962</th>\n",
       "      <th>gdpPercap_1967</th>\n",
       "      <th>gdpPercap_1972</th>\n",
       "      <th>gdpPercap_1977</th>\n",
       "      <th>gdpPercap_1982</th>\n",
       "      <th>gdpPercap_1987</th>\n",
       "      <th>gdpPercap_1992</th>\n",
       "      <th>gdpPercap_1997</th>\n",
       "      <th>gdpPercap_2002</th>\n",
       "      <th>gdpPercap_2007</th>\n",
       "    </tr>\n",
       "  </thead>\n",
       "  <tbody>\n",
       "    <tr>\n",
       "      <th>0</th>\n",
       "      <td>Albania</td>\n",
       "      <td>1601.056136</td>\n",
       "      <td>1942.284244</td>\n",
       "      <td>2312.888958</td>\n",
       "      <td>2760.196931</td>\n",
       "      <td>3313.422188</td>\n",
       "      <td>3533.003910</td>\n",
       "      <td>3630.880722</td>\n",
       "      <td>3738.932735</td>\n",
       "      <td>2497.437901</td>\n",
       "      <td>3193.054604</td>\n",
       "      <td>4604.211737</td>\n",
       "      <td>5937.029526</td>\n",
       "    </tr>\n",
       "    <tr>\n",
       "      <th>1</th>\n",
       "      <td>Austria</td>\n",
       "      <td>6137.076492</td>\n",
       "      <td>8842.598030</td>\n",
       "      <td>10750.721110</td>\n",
       "      <td>12834.602400</td>\n",
       "      <td>16661.625600</td>\n",
       "      <td>19749.422300</td>\n",
       "      <td>21597.083620</td>\n",
       "      <td>23687.826070</td>\n",
       "      <td>27042.018680</td>\n",
       "      <td>29095.920660</td>\n",
       "      <td>32417.607690</td>\n",
       "      <td>36126.492700</td>\n",
       "    </tr>\n",
       "    <tr>\n",
       "      <th>2</th>\n",
       "      <td>Belgium</td>\n",
       "      <td>8343.105127</td>\n",
       "      <td>9714.960623</td>\n",
       "      <td>10991.206760</td>\n",
       "      <td>13149.041190</td>\n",
       "      <td>16672.143560</td>\n",
       "      <td>19117.974480</td>\n",
       "      <td>20979.845890</td>\n",
       "      <td>22525.563080</td>\n",
       "      <td>25575.570690</td>\n",
       "      <td>27561.196630</td>\n",
       "      <td>30485.883750</td>\n",
       "      <td>33692.605080</td>\n",
       "    </tr>\n",
       "    <tr>\n",
       "      <th>3</th>\n",
       "      <td>Bosnia and Herzegovina</td>\n",
       "      <td>973.533195</td>\n",
       "      <td>1353.989176</td>\n",
       "      <td>1709.683679</td>\n",
       "      <td>2172.352423</td>\n",
       "      <td>2860.169750</td>\n",
       "      <td>3528.481305</td>\n",
       "      <td>4126.613157</td>\n",
       "      <td>4314.114757</td>\n",
       "      <td>2546.781445</td>\n",
       "      <td>4766.355904</td>\n",
       "      <td>6018.975239</td>\n",
       "      <td>7446.298803</td>\n",
       "    </tr>\n",
       "    <tr>\n",
       "      <th>...</th>\n",
       "      <td>...</td>\n",
       "      <td>...</td>\n",
       "      <td>...</td>\n",
       "      <td>...</td>\n",
       "      <td>...</td>\n",
       "      <td>...</td>\n",
       "      <td>...</td>\n",
       "      <td>...</td>\n",
       "      <td>...</td>\n",
       "      <td>...</td>\n",
       "      <td>...</td>\n",
       "      <td>...</td>\n",
       "      <td>...</td>\n",
       "    </tr>\n",
       "    <tr>\n",
       "      <th>26</th>\n",
       "      <td>Sweden</td>\n",
       "      <td>8527.844662</td>\n",
       "      <td>9911.878226</td>\n",
       "      <td>12329.441920</td>\n",
       "      <td>15258.296970</td>\n",
       "      <td>17832.024640</td>\n",
       "      <td>18855.725210</td>\n",
       "      <td>20667.381250</td>\n",
       "      <td>23586.929270</td>\n",
       "      <td>23880.016830</td>\n",
       "      <td>25266.594990</td>\n",
       "      <td>29341.630930</td>\n",
       "      <td>33859.748350</td>\n",
       "    </tr>\n",
       "    <tr>\n",
       "      <th>27</th>\n",
       "      <td>Switzerland</td>\n",
       "      <td>14734.232750</td>\n",
       "      <td>17909.489730</td>\n",
       "      <td>20431.092700</td>\n",
       "      <td>22966.144320</td>\n",
       "      <td>27195.113040</td>\n",
       "      <td>26982.290520</td>\n",
       "      <td>28397.715120</td>\n",
       "      <td>30281.704590</td>\n",
       "      <td>31871.530300</td>\n",
       "      <td>32135.323010</td>\n",
       "      <td>34480.957710</td>\n",
       "      <td>37506.419070</td>\n",
       "    </tr>\n",
       "    <tr>\n",
       "      <th>28</th>\n",
       "      <td>Turkey</td>\n",
       "      <td>1969.100980</td>\n",
       "      <td>2218.754257</td>\n",
       "      <td>2322.869908</td>\n",
       "      <td>2826.356387</td>\n",
       "      <td>3450.696380</td>\n",
       "      <td>4269.122326</td>\n",
       "      <td>4241.356344</td>\n",
       "      <td>5089.043686</td>\n",
       "      <td>5678.348271</td>\n",
       "      <td>6601.429915</td>\n",
       "      <td>6508.085718</td>\n",
       "      <td>8458.276384</td>\n",
       "    </tr>\n",
       "    <tr>\n",
       "      <th>29</th>\n",
       "      <td>United Kingdom</td>\n",
       "      <td>9979.508487</td>\n",
       "      <td>11283.177950</td>\n",
       "      <td>12477.177070</td>\n",
       "      <td>14142.850890</td>\n",
       "      <td>15895.116410</td>\n",
       "      <td>17428.748460</td>\n",
       "      <td>18232.424520</td>\n",
       "      <td>21664.787670</td>\n",
       "      <td>22705.092540</td>\n",
       "      <td>26074.531360</td>\n",
       "      <td>29478.999190</td>\n",
       "      <td>33203.261280</td>\n",
       "    </tr>\n",
       "  </tbody>\n",
       "</table>\n",
       "<p>30 rows × 13 columns</p>\n",
       "</div>"
      ],
      "text/plain": [
       "                   country  gdpPercap_1952  gdpPercap_1957  gdpPercap_1962  \\\n",
       "0                  Albania     1601.056136     1942.284244     2312.888958   \n",
       "1                  Austria     6137.076492     8842.598030    10750.721110   \n",
       "2                  Belgium     8343.105127     9714.960623    10991.206760   \n",
       "3   Bosnia and Herzegovina      973.533195     1353.989176     1709.683679   \n",
       "..                     ...             ...             ...             ...   \n",
       "26                  Sweden     8527.844662     9911.878226    12329.441920   \n",
       "27             Switzerland    14734.232750    17909.489730    20431.092700   \n",
       "28                  Turkey     1969.100980     2218.754257     2322.869908   \n",
       "29          United Kingdom     9979.508487    11283.177950    12477.177070   \n",
       "\n",
       "    gdpPercap_1967  gdpPercap_1972  gdpPercap_1977  gdpPercap_1982  \\\n",
       "0      2760.196931     3313.422188     3533.003910     3630.880722   \n",
       "1     12834.602400    16661.625600    19749.422300    21597.083620   \n",
       "2     13149.041190    16672.143560    19117.974480    20979.845890   \n",
       "3      2172.352423     2860.169750     3528.481305     4126.613157   \n",
       "..             ...             ...             ...             ...   \n",
       "26    15258.296970    17832.024640    18855.725210    20667.381250   \n",
       "27    22966.144320    27195.113040    26982.290520    28397.715120   \n",
       "28     2826.356387     3450.696380     4269.122326     4241.356344   \n",
       "29    14142.850890    15895.116410    17428.748460    18232.424520   \n",
       "\n",
       "    gdpPercap_1987  gdpPercap_1992  gdpPercap_1997  gdpPercap_2002  \\\n",
       "0      3738.932735     2497.437901     3193.054604     4604.211737   \n",
       "1     23687.826070    27042.018680    29095.920660    32417.607690   \n",
       "2     22525.563080    25575.570690    27561.196630    30485.883750   \n",
       "3      4314.114757     2546.781445     4766.355904     6018.975239   \n",
       "..             ...             ...             ...             ...   \n",
       "26    23586.929270    23880.016830    25266.594990    29341.630930   \n",
       "27    30281.704590    31871.530300    32135.323010    34480.957710   \n",
       "28     5089.043686     5678.348271     6601.429915     6508.085718   \n",
       "29    21664.787670    22705.092540    26074.531360    29478.999190   \n",
       "\n",
       "    gdpPercap_2007  \n",
       "0      5937.029526  \n",
       "1     36126.492700  \n",
       "2     33692.605080  \n",
       "3      7446.298803  \n",
       "..             ...  \n",
       "26    33859.748350  \n",
       "27    37506.419070  \n",
       "28     8458.276384  \n",
       "29    33203.261280  \n",
       "\n",
       "[30 rows x 13 columns]"
      ]
     },
     "execution_count": 38,
     "metadata": {},
     "output_type": "execute_result"
    }
   ],
   "source": [
    "data = pd.read_csv(\"data/gapminder_gdp_europe.csv\")\n",
    "data"
   ]
  },
  {
   "cell_type": "markdown",
   "metadata": {},
   "source": [
    "Convert to tidy (long) format:"
   ]
  },
  {
   "cell_type": "code",
   "execution_count": 39,
   "metadata": {},
   "outputs": [
    {
     "data": {
      "text/html": [
       "<div>\n",
       "<style scoped>\n",
       "    .dataframe tbody tr th:only-of-type {\n",
       "        vertical-align: middle;\n",
       "    }\n",
       "\n",
       "    .dataframe tbody tr th {\n",
       "        vertical-align: top;\n",
       "    }\n",
       "\n",
       "    .dataframe thead th {\n",
       "        text-align: right;\n",
       "    }\n",
       "</style>\n",
       "<table border=\"1\" class=\"dataframe\">\n",
       "  <thead>\n",
       "    <tr style=\"text-align: right;\">\n",
       "      <th></th>\n",
       "      <th>country</th>\n",
       "      <th>year</th>\n",
       "      <th>value</th>\n",
       "    </tr>\n",
       "  </thead>\n",
       "  <tbody>\n",
       "    <tr>\n",
       "      <th>0</th>\n",
       "      <td>Albania</td>\n",
       "      <td>1952</td>\n",
       "      <td>1601.056136</td>\n",
       "    </tr>\n",
       "    <tr>\n",
       "      <th>1</th>\n",
       "      <td>Austria</td>\n",
       "      <td>1952</td>\n",
       "      <td>6137.076492</td>\n",
       "    </tr>\n",
       "    <tr>\n",
       "      <th>2</th>\n",
       "      <td>Belgium</td>\n",
       "      <td>1952</td>\n",
       "      <td>8343.105127</td>\n",
       "    </tr>\n",
       "    <tr>\n",
       "      <th>3</th>\n",
       "      <td>Bosnia and Herzegovina</td>\n",
       "      <td>1952</td>\n",
       "      <td>973.533195</td>\n",
       "    </tr>\n",
       "    <tr>\n",
       "      <th>...</th>\n",
       "      <td>...</td>\n",
       "      <td>...</td>\n",
       "      <td>...</td>\n",
       "    </tr>\n",
       "    <tr>\n",
       "      <th>356</th>\n",
       "      <td>Sweden</td>\n",
       "      <td>2007</td>\n",
       "      <td>33859.748350</td>\n",
       "    </tr>\n",
       "    <tr>\n",
       "      <th>357</th>\n",
       "      <td>Switzerland</td>\n",
       "      <td>2007</td>\n",
       "      <td>37506.419070</td>\n",
       "    </tr>\n",
       "    <tr>\n",
       "      <th>358</th>\n",
       "      <td>Turkey</td>\n",
       "      <td>2007</td>\n",
       "      <td>8458.276384</td>\n",
       "    </tr>\n",
       "    <tr>\n",
       "      <th>359</th>\n",
       "      <td>United Kingdom</td>\n",
       "      <td>2007</td>\n",
       "      <td>33203.261280</td>\n",
       "    </tr>\n",
       "  </tbody>\n",
       "</table>\n",
       "<p>360 rows × 3 columns</p>\n",
       "</div>"
      ],
      "text/plain": [
       "                    country  year         value\n",
       "0                   Albania  1952   1601.056136\n",
       "1                   Austria  1952   6137.076492\n",
       "2                   Belgium  1952   8343.105127\n",
       "3    Bosnia and Herzegovina  1952    973.533195\n",
       "..                      ...   ...           ...\n",
       "356                  Sweden  2007  33859.748350\n",
       "357             Switzerland  2007  37506.419070\n",
       "358                  Turkey  2007   8458.276384\n",
       "359          United Kingdom  2007  33203.261280\n",
       "\n",
       "[360 rows x 3 columns]"
      ]
     },
     "execution_count": 39,
     "metadata": {},
     "output_type": "execute_result"
    }
   ],
   "source": [
    "tidy_gdp = data.melt(id_vars=['country'])\n",
    "tidy_gdp['year'] = tidy_gdp.variable.str.slice(10).astype(int)\n",
    "tidy_gdp = tidy_gdp.drop(\"variable\", axis=1)[['country', 'year', 'value']]\n",
    "tidy_gdp"
   ]
  },
  {
   "cell_type": "code",
   "execution_count": 40,
   "metadata": {},
   "outputs": [
    {
     "data": {
      "text/html": [
       "<div>\n",
       "<style scoped>\n",
       "    .dataframe tbody tr th:only-of-type {\n",
       "        vertical-align: middle;\n",
       "    }\n",
       "\n",
       "    .dataframe tbody tr th {\n",
       "        vertical-align: top;\n",
       "    }\n",
       "\n",
       "    .dataframe thead th {\n",
       "        text-align: right;\n",
       "    }\n",
       "</style>\n",
       "<table border=\"1\" class=\"dataframe\">\n",
       "  <thead>\n",
       "    <tr style=\"text-align: right;\">\n",
       "      <th>year</th>\n",
       "      <th>1952</th>\n",
       "      <th>1957</th>\n",
       "      <th>1962</th>\n",
       "      <th>1967</th>\n",
       "      <th>1972</th>\n",
       "      <th>1977</th>\n",
       "      <th>1982</th>\n",
       "      <th>1987</th>\n",
       "      <th>1992</th>\n",
       "      <th>1997</th>\n",
       "      <th>2002</th>\n",
       "      <th>2007</th>\n",
       "    </tr>\n",
       "    <tr>\n",
       "      <th>country</th>\n",
       "      <th></th>\n",
       "      <th></th>\n",
       "      <th></th>\n",
       "      <th></th>\n",
       "      <th></th>\n",
       "      <th></th>\n",
       "      <th></th>\n",
       "      <th></th>\n",
       "      <th></th>\n",
       "      <th></th>\n",
       "      <th></th>\n",
       "      <th></th>\n",
       "    </tr>\n",
       "  </thead>\n",
       "  <tbody>\n",
       "    <tr>\n",
       "      <th>Albania</th>\n",
       "      <td>1601.056136</td>\n",
       "      <td>1942.284244</td>\n",
       "      <td>2312.888958</td>\n",
       "      <td>2760.196931</td>\n",
       "      <td>3313.422188</td>\n",
       "      <td>3533.003910</td>\n",
       "      <td>3630.880722</td>\n",
       "      <td>3738.932735</td>\n",
       "      <td>2497.437901</td>\n",
       "      <td>3193.054604</td>\n",
       "      <td>4604.211737</td>\n",
       "      <td>5937.029526</td>\n",
       "    </tr>\n",
       "    <tr>\n",
       "      <th>Austria</th>\n",
       "      <td>6137.076492</td>\n",
       "      <td>8842.598030</td>\n",
       "      <td>10750.721110</td>\n",
       "      <td>12834.602400</td>\n",
       "      <td>16661.625600</td>\n",
       "      <td>19749.422300</td>\n",
       "      <td>21597.083620</td>\n",
       "      <td>23687.826070</td>\n",
       "      <td>27042.018680</td>\n",
       "      <td>29095.920660</td>\n",
       "      <td>32417.607690</td>\n",
       "      <td>36126.492700</td>\n",
       "    </tr>\n",
       "    <tr>\n",
       "      <th>Belgium</th>\n",
       "      <td>8343.105127</td>\n",
       "      <td>9714.960623</td>\n",
       "      <td>10991.206760</td>\n",
       "      <td>13149.041190</td>\n",
       "      <td>16672.143560</td>\n",
       "      <td>19117.974480</td>\n",
       "      <td>20979.845890</td>\n",
       "      <td>22525.563080</td>\n",
       "      <td>25575.570690</td>\n",
       "      <td>27561.196630</td>\n",
       "      <td>30485.883750</td>\n",
       "      <td>33692.605080</td>\n",
       "    </tr>\n",
       "    <tr>\n",
       "      <th>Bosnia and Herzegovina</th>\n",
       "      <td>973.533195</td>\n",
       "      <td>1353.989176</td>\n",
       "      <td>1709.683679</td>\n",
       "      <td>2172.352423</td>\n",
       "      <td>2860.169750</td>\n",
       "      <td>3528.481305</td>\n",
       "      <td>4126.613157</td>\n",
       "      <td>4314.114757</td>\n",
       "      <td>2546.781445</td>\n",
       "      <td>4766.355904</td>\n",
       "      <td>6018.975239</td>\n",
       "      <td>7446.298803</td>\n",
       "    </tr>\n",
       "    <tr>\n",
       "      <th>...</th>\n",
       "      <td>...</td>\n",
       "      <td>...</td>\n",
       "      <td>...</td>\n",
       "      <td>...</td>\n",
       "      <td>...</td>\n",
       "      <td>...</td>\n",
       "      <td>...</td>\n",
       "      <td>...</td>\n",
       "      <td>...</td>\n",
       "      <td>...</td>\n",
       "      <td>...</td>\n",
       "      <td>...</td>\n",
       "    </tr>\n",
       "    <tr>\n",
       "      <th>Sweden</th>\n",
       "      <td>8527.844662</td>\n",
       "      <td>9911.878226</td>\n",
       "      <td>12329.441920</td>\n",
       "      <td>15258.296970</td>\n",
       "      <td>17832.024640</td>\n",
       "      <td>18855.725210</td>\n",
       "      <td>20667.381250</td>\n",
       "      <td>23586.929270</td>\n",
       "      <td>23880.016830</td>\n",
       "      <td>25266.594990</td>\n",
       "      <td>29341.630930</td>\n",
       "      <td>33859.748350</td>\n",
       "    </tr>\n",
       "    <tr>\n",
       "      <th>Switzerland</th>\n",
       "      <td>14734.232750</td>\n",
       "      <td>17909.489730</td>\n",
       "      <td>20431.092700</td>\n",
       "      <td>22966.144320</td>\n",
       "      <td>27195.113040</td>\n",
       "      <td>26982.290520</td>\n",
       "      <td>28397.715120</td>\n",
       "      <td>30281.704590</td>\n",
       "      <td>31871.530300</td>\n",
       "      <td>32135.323010</td>\n",
       "      <td>34480.957710</td>\n",
       "      <td>37506.419070</td>\n",
       "    </tr>\n",
       "    <tr>\n",
       "      <th>Turkey</th>\n",
       "      <td>1969.100980</td>\n",
       "      <td>2218.754257</td>\n",
       "      <td>2322.869908</td>\n",
       "      <td>2826.356387</td>\n",
       "      <td>3450.696380</td>\n",
       "      <td>4269.122326</td>\n",
       "      <td>4241.356344</td>\n",
       "      <td>5089.043686</td>\n",
       "      <td>5678.348271</td>\n",
       "      <td>6601.429915</td>\n",
       "      <td>6508.085718</td>\n",
       "      <td>8458.276384</td>\n",
       "    </tr>\n",
       "    <tr>\n",
       "      <th>United Kingdom</th>\n",
       "      <td>9979.508487</td>\n",
       "      <td>11283.177950</td>\n",
       "      <td>12477.177070</td>\n",
       "      <td>14142.850890</td>\n",
       "      <td>15895.116410</td>\n",
       "      <td>17428.748460</td>\n",
       "      <td>18232.424520</td>\n",
       "      <td>21664.787670</td>\n",
       "      <td>22705.092540</td>\n",
       "      <td>26074.531360</td>\n",
       "      <td>29478.999190</td>\n",
       "      <td>33203.261280</td>\n",
       "    </tr>\n",
       "  </tbody>\n",
       "</table>\n",
       "<p>30 rows × 12 columns</p>\n",
       "</div>"
      ],
      "text/plain": [
       "year                            1952          1957          1962  \\\n",
       "country                                                            \n",
       "Albania                  1601.056136   1942.284244   2312.888958   \n",
       "Austria                  6137.076492   8842.598030  10750.721110   \n",
       "Belgium                  8343.105127   9714.960623  10991.206760   \n",
       "Bosnia and Herzegovina    973.533195   1353.989176   1709.683679   \n",
       "...                              ...           ...           ...   \n",
       "Sweden                   8527.844662   9911.878226  12329.441920   \n",
       "Switzerland             14734.232750  17909.489730  20431.092700   \n",
       "Turkey                   1969.100980   2218.754257   2322.869908   \n",
       "United Kingdom           9979.508487  11283.177950  12477.177070   \n",
       "\n",
       "year                            1967          1972          1977  \\\n",
       "country                                                            \n",
       "Albania                  2760.196931   3313.422188   3533.003910   \n",
       "Austria                 12834.602400  16661.625600  19749.422300   \n",
       "Belgium                 13149.041190  16672.143560  19117.974480   \n",
       "Bosnia and Herzegovina   2172.352423   2860.169750   3528.481305   \n",
       "...                              ...           ...           ...   \n",
       "Sweden                  15258.296970  17832.024640  18855.725210   \n",
       "Switzerland             22966.144320  27195.113040  26982.290520   \n",
       "Turkey                   2826.356387   3450.696380   4269.122326   \n",
       "United Kingdom          14142.850890  15895.116410  17428.748460   \n",
       "\n",
       "year                            1982          1987          1992  \\\n",
       "country                                                            \n",
       "Albania                  3630.880722   3738.932735   2497.437901   \n",
       "Austria                 21597.083620  23687.826070  27042.018680   \n",
       "Belgium                 20979.845890  22525.563080  25575.570690   \n",
       "Bosnia and Herzegovina   4126.613157   4314.114757   2546.781445   \n",
       "...                              ...           ...           ...   \n",
       "Sweden                  20667.381250  23586.929270  23880.016830   \n",
       "Switzerland             28397.715120  30281.704590  31871.530300   \n",
       "Turkey                   4241.356344   5089.043686   5678.348271   \n",
       "United Kingdom          18232.424520  21664.787670  22705.092540   \n",
       "\n",
       "year                            1997          2002          2007  \n",
       "country                                                           \n",
       "Albania                  3193.054604   4604.211737   5937.029526  \n",
       "Austria                 29095.920660  32417.607690  36126.492700  \n",
       "Belgium                 27561.196630  30485.883750  33692.605080  \n",
       "Bosnia and Herzegovina   4766.355904   6018.975239   7446.298803  \n",
       "...                              ...           ...           ...  \n",
       "Sweden                  25266.594990  29341.630930  33859.748350  \n",
       "Switzerland             32135.323010  34480.957710  37506.419070  \n",
       "Turkey                   6601.429915   6508.085718   8458.276384  \n",
       "United Kingdom          26074.531360  29478.999190  33203.261280  \n",
       "\n",
       "[30 rows x 12 columns]"
      ]
     },
     "execution_count": 40,
     "metadata": {},
     "output_type": "execute_result"
    }
   ],
   "source": [
    "wide_gdp = tidy_gdp.pivot(index='country', columns='year', values='value')\n",
    "wide_gdp"
   ]
  },
  {
   "cell_type": "markdown",
   "metadata": {},
   "source": [
    "Countries as columns"
   ]
  },
  {
   "cell_type": "code",
   "execution_count": 41,
   "metadata": {},
   "outputs": [
    {
     "data": {
      "text/html": [
       "<div>\n",
       "<style scoped>\n",
       "    .dataframe tbody tr th:only-of-type {\n",
       "        vertical-align: middle;\n",
       "    }\n",
       "\n",
       "    .dataframe tbody tr th {\n",
       "        vertical-align: top;\n",
       "    }\n",
       "\n",
       "    .dataframe thead th {\n",
       "        text-align: right;\n",
       "    }\n",
       "</style>\n",
       "<table border=\"1\" class=\"dataframe\">\n",
       "  <thead>\n",
       "    <tr style=\"text-align: right;\">\n",
       "      <th>country</th>\n",
       "      <th>Albania</th>\n",
       "      <th>Austria</th>\n",
       "      <th>Belgium</th>\n",
       "      <th>Bosnia and Herzegovina</th>\n",
       "      <th>Bulgaria</th>\n",
       "      <th>Croatia</th>\n",
       "      <th>Czech Republic</th>\n",
       "      <th>Denmark</th>\n",
       "      <th>Finland</th>\n",
       "      <th>France</th>\n",
       "      <th>...</th>\n",
       "      <th>Portugal</th>\n",
       "      <th>Romania</th>\n",
       "      <th>Serbia</th>\n",
       "      <th>Slovak Republic</th>\n",
       "      <th>Slovenia</th>\n",
       "      <th>Spain</th>\n",
       "      <th>Sweden</th>\n",
       "      <th>Switzerland</th>\n",
       "      <th>Turkey</th>\n",
       "      <th>United Kingdom</th>\n",
       "    </tr>\n",
       "    <tr>\n",
       "      <th>year</th>\n",
       "      <th></th>\n",
       "      <th></th>\n",
       "      <th></th>\n",
       "      <th></th>\n",
       "      <th></th>\n",
       "      <th></th>\n",
       "      <th></th>\n",
       "      <th></th>\n",
       "      <th></th>\n",
       "      <th></th>\n",
       "      <th></th>\n",
       "      <th></th>\n",
       "      <th></th>\n",
       "      <th></th>\n",
       "      <th></th>\n",
       "      <th></th>\n",
       "      <th></th>\n",
       "      <th></th>\n",
       "      <th></th>\n",
       "      <th></th>\n",
       "      <th></th>\n",
       "    </tr>\n",
       "  </thead>\n",
       "  <tbody>\n",
       "    <tr>\n",
       "      <th>1952</th>\n",
       "      <td>1601.056136</td>\n",
       "      <td>6137.076492</td>\n",
       "      <td>8343.105127</td>\n",
       "      <td>973.533195</td>\n",
       "      <td>2444.286648</td>\n",
       "      <td>3119.236520</td>\n",
       "      <td>6876.140250</td>\n",
       "      <td>9692.385245</td>\n",
       "      <td>6424.519071</td>\n",
       "      <td>7029.809327</td>\n",
       "      <td>...</td>\n",
       "      <td>3068.319867</td>\n",
       "      <td>3144.613186</td>\n",
       "      <td>3581.459448</td>\n",
       "      <td>5074.659104</td>\n",
       "      <td>4215.041741</td>\n",
       "      <td>3834.034742</td>\n",
       "      <td>8527.844662</td>\n",
       "      <td>14734.23275</td>\n",
       "      <td>1969.100980</td>\n",
       "      <td>9979.508487</td>\n",
       "    </tr>\n",
       "    <tr>\n",
       "      <th>1957</th>\n",
       "      <td>1942.284244</td>\n",
       "      <td>8842.598030</td>\n",
       "      <td>9714.960623</td>\n",
       "      <td>1353.989176</td>\n",
       "      <td>3008.670727</td>\n",
       "      <td>4338.231617</td>\n",
       "      <td>8256.343918</td>\n",
       "      <td>11099.659350</td>\n",
       "      <td>7545.415386</td>\n",
       "      <td>8662.834898</td>\n",
       "      <td>...</td>\n",
       "      <td>3774.571743</td>\n",
       "      <td>3943.370225</td>\n",
       "      <td>4981.090891</td>\n",
       "      <td>6093.262980</td>\n",
       "      <td>5862.276629</td>\n",
       "      <td>4564.802410</td>\n",
       "      <td>9911.878226</td>\n",
       "      <td>17909.48973</td>\n",
       "      <td>2218.754257</td>\n",
       "      <td>11283.177950</td>\n",
       "    </tr>\n",
       "    <tr>\n",
       "      <th>1962</th>\n",
       "      <td>2312.888958</td>\n",
       "      <td>10750.721110</td>\n",
       "      <td>10991.206760</td>\n",
       "      <td>1709.683679</td>\n",
       "      <td>4254.337839</td>\n",
       "      <td>5477.890018</td>\n",
       "      <td>10136.867130</td>\n",
       "      <td>13583.313510</td>\n",
       "      <td>9371.842561</td>\n",
       "      <td>10560.485530</td>\n",
       "      <td>...</td>\n",
       "      <td>4727.954889</td>\n",
       "      <td>4734.997586</td>\n",
       "      <td>6289.629157</td>\n",
       "      <td>7481.107598</td>\n",
       "      <td>7402.303395</td>\n",
       "      <td>5693.843879</td>\n",
       "      <td>12329.441920</td>\n",
       "      <td>20431.09270</td>\n",
       "      <td>2322.869908</td>\n",
       "      <td>12477.177070</td>\n",
       "    </tr>\n",
       "    <tr>\n",
       "      <th>1967</th>\n",
       "      <td>2760.196931</td>\n",
       "      <td>12834.602400</td>\n",
       "      <td>13149.041190</td>\n",
       "      <td>2172.352423</td>\n",
       "      <td>5577.002800</td>\n",
       "      <td>6960.297861</td>\n",
       "      <td>11399.444890</td>\n",
       "      <td>15937.211230</td>\n",
       "      <td>10921.636260</td>\n",
       "      <td>12999.917660</td>\n",
       "      <td>...</td>\n",
       "      <td>6361.517993</td>\n",
       "      <td>6470.866545</td>\n",
       "      <td>7991.707066</td>\n",
       "      <td>8412.902397</td>\n",
       "      <td>9405.489397</td>\n",
       "      <td>7993.512294</td>\n",
       "      <td>15258.296970</td>\n",
       "      <td>22966.14432</td>\n",
       "      <td>2826.356387</td>\n",
       "      <td>14142.850890</td>\n",
       "    </tr>\n",
       "    <tr>\n",
       "      <th>...</th>\n",
       "      <td>...</td>\n",
       "      <td>...</td>\n",
       "      <td>...</td>\n",
       "      <td>...</td>\n",
       "      <td>...</td>\n",
       "      <td>...</td>\n",
       "      <td>...</td>\n",
       "      <td>...</td>\n",
       "      <td>...</td>\n",
       "      <td>...</td>\n",
       "      <td>...</td>\n",
       "      <td>...</td>\n",
       "      <td>...</td>\n",
       "      <td>...</td>\n",
       "      <td>...</td>\n",
       "      <td>...</td>\n",
       "      <td>...</td>\n",
       "      <td>...</td>\n",
       "      <td>...</td>\n",
       "      <td>...</td>\n",
       "      <td>...</td>\n",
       "    </tr>\n",
       "    <tr>\n",
       "      <th>1992</th>\n",
       "      <td>2497.437901</td>\n",
       "      <td>27042.018680</td>\n",
       "      <td>25575.570690</td>\n",
       "      <td>2546.781445</td>\n",
       "      <td>6302.623438</td>\n",
       "      <td>8447.794873</td>\n",
       "      <td>14297.021220</td>\n",
       "      <td>26406.739850</td>\n",
       "      <td>20647.164990</td>\n",
       "      <td>24703.796150</td>\n",
       "      <td>...</td>\n",
       "      <td>16207.266630</td>\n",
       "      <td>6598.409903</td>\n",
       "      <td>9325.068238</td>\n",
       "      <td>9498.467723</td>\n",
       "      <td>14214.716810</td>\n",
       "      <td>18603.064520</td>\n",
       "      <td>23880.016830</td>\n",
       "      <td>31871.53030</td>\n",
       "      <td>5678.348271</td>\n",
       "      <td>22705.092540</td>\n",
       "    </tr>\n",
       "    <tr>\n",
       "      <th>1997</th>\n",
       "      <td>3193.054604</td>\n",
       "      <td>29095.920660</td>\n",
       "      <td>27561.196630</td>\n",
       "      <td>4766.355904</td>\n",
       "      <td>5970.388760</td>\n",
       "      <td>9875.604515</td>\n",
       "      <td>16048.514240</td>\n",
       "      <td>29804.345670</td>\n",
       "      <td>23723.950200</td>\n",
       "      <td>25889.784870</td>\n",
       "      <td>...</td>\n",
       "      <td>17641.031560</td>\n",
       "      <td>7346.547557</td>\n",
       "      <td>7914.320304</td>\n",
       "      <td>12126.230650</td>\n",
       "      <td>17161.107350</td>\n",
       "      <td>20445.298960</td>\n",
       "      <td>25266.594990</td>\n",
       "      <td>32135.32301</td>\n",
       "      <td>6601.429915</td>\n",
       "      <td>26074.531360</td>\n",
       "    </tr>\n",
       "    <tr>\n",
       "      <th>2002</th>\n",
       "      <td>4604.211737</td>\n",
       "      <td>32417.607690</td>\n",
       "      <td>30485.883750</td>\n",
       "      <td>6018.975239</td>\n",
       "      <td>7696.777725</td>\n",
       "      <td>11628.388950</td>\n",
       "      <td>17596.210220</td>\n",
       "      <td>32166.500060</td>\n",
       "      <td>28204.590570</td>\n",
       "      <td>28926.032340</td>\n",
       "      <td>...</td>\n",
       "      <td>19970.907870</td>\n",
       "      <td>7885.360081</td>\n",
       "      <td>7236.075251</td>\n",
       "      <td>13638.778370</td>\n",
       "      <td>20660.019360</td>\n",
       "      <td>24835.471660</td>\n",
       "      <td>29341.630930</td>\n",
       "      <td>34480.95771</td>\n",
       "      <td>6508.085718</td>\n",
       "      <td>29478.999190</td>\n",
       "    </tr>\n",
       "    <tr>\n",
       "      <th>2007</th>\n",
       "      <td>5937.029526</td>\n",
       "      <td>36126.492700</td>\n",
       "      <td>33692.605080</td>\n",
       "      <td>7446.298803</td>\n",
       "      <td>10680.792820</td>\n",
       "      <td>14619.222720</td>\n",
       "      <td>22833.308510</td>\n",
       "      <td>35278.418740</td>\n",
       "      <td>33207.084400</td>\n",
       "      <td>30470.016700</td>\n",
       "      <td>...</td>\n",
       "      <td>20509.647770</td>\n",
       "      <td>10808.475610</td>\n",
       "      <td>9786.534714</td>\n",
       "      <td>18678.314350</td>\n",
       "      <td>25768.257590</td>\n",
       "      <td>28821.063700</td>\n",
       "      <td>33859.748350</td>\n",
       "      <td>37506.41907</td>\n",
       "      <td>8458.276384</td>\n",
       "      <td>33203.261280</td>\n",
       "    </tr>\n",
       "  </tbody>\n",
       "</table>\n",
       "<p>12 rows × 30 columns</p>\n",
       "</div>"
      ],
      "text/plain": [
       "country      Albania       Austria       Belgium  Bosnia and Herzegovina  \\\n",
       "year                                                                       \n",
       "1952     1601.056136   6137.076492   8343.105127              973.533195   \n",
       "1957     1942.284244   8842.598030   9714.960623             1353.989176   \n",
       "1962     2312.888958  10750.721110  10991.206760             1709.683679   \n",
       "1967     2760.196931  12834.602400  13149.041190             2172.352423   \n",
       "...              ...           ...           ...                     ...   \n",
       "1992     2497.437901  27042.018680  25575.570690             2546.781445   \n",
       "1997     3193.054604  29095.920660  27561.196630             4766.355904   \n",
       "2002     4604.211737  32417.607690  30485.883750             6018.975239   \n",
       "2007     5937.029526  36126.492700  33692.605080             7446.298803   \n",
       "\n",
       "country      Bulgaria       Croatia  Czech Republic       Denmark  \\\n",
       "year                                                                \n",
       "1952      2444.286648   3119.236520     6876.140250   9692.385245   \n",
       "1957      3008.670727   4338.231617     8256.343918  11099.659350   \n",
       "1962      4254.337839   5477.890018    10136.867130  13583.313510   \n",
       "1967      5577.002800   6960.297861    11399.444890  15937.211230   \n",
       "...               ...           ...             ...           ...   \n",
       "1992      6302.623438   8447.794873    14297.021220  26406.739850   \n",
       "1997      5970.388760   9875.604515    16048.514240  29804.345670   \n",
       "2002      7696.777725  11628.388950    17596.210220  32166.500060   \n",
       "2007     10680.792820  14619.222720    22833.308510  35278.418740   \n",
       "\n",
       "country       Finland        France  ...      Portugal       Romania  \\\n",
       "year                                 ...                               \n",
       "1952      6424.519071   7029.809327  ...   3068.319867   3144.613186   \n",
       "1957      7545.415386   8662.834898  ...   3774.571743   3943.370225   \n",
       "1962      9371.842561  10560.485530  ...   4727.954889   4734.997586   \n",
       "1967     10921.636260  12999.917660  ...   6361.517993   6470.866545   \n",
       "...               ...           ...  ...           ...           ...   \n",
       "1992     20647.164990  24703.796150  ...  16207.266630   6598.409903   \n",
       "1997     23723.950200  25889.784870  ...  17641.031560   7346.547557   \n",
       "2002     28204.590570  28926.032340  ...  19970.907870   7885.360081   \n",
       "2007     33207.084400  30470.016700  ...  20509.647770  10808.475610   \n",
       "\n",
       "country       Serbia  Slovak Republic      Slovenia         Spain  \\\n",
       "year                                                                \n",
       "1952     3581.459448      5074.659104   4215.041741   3834.034742   \n",
       "1957     4981.090891      6093.262980   5862.276629   4564.802410   \n",
       "1962     6289.629157      7481.107598   7402.303395   5693.843879   \n",
       "1967     7991.707066      8412.902397   9405.489397   7993.512294   \n",
       "...              ...              ...           ...           ...   \n",
       "1992     9325.068238      9498.467723  14214.716810  18603.064520   \n",
       "1997     7914.320304     12126.230650  17161.107350  20445.298960   \n",
       "2002     7236.075251     13638.778370  20660.019360  24835.471660   \n",
       "2007     9786.534714     18678.314350  25768.257590  28821.063700   \n",
       "\n",
       "country        Sweden  Switzerland       Turkey  United Kingdom  \n",
       "year                                                             \n",
       "1952      8527.844662  14734.23275  1969.100980     9979.508487  \n",
       "1957      9911.878226  17909.48973  2218.754257    11283.177950  \n",
       "1962     12329.441920  20431.09270  2322.869908    12477.177070  \n",
       "1967     15258.296970  22966.14432  2826.356387    14142.850890  \n",
       "...               ...          ...          ...             ...  \n",
       "1992     23880.016830  31871.53030  5678.348271    22705.092540  \n",
       "1997     25266.594990  32135.32301  6601.429915    26074.531360  \n",
       "2002     29341.630930  34480.95771  6508.085718    29478.999190  \n",
       "2007     33859.748350  37506.41907  8458.276384    33203.261280  \n",
       "\n",
       "[12 rows x 30 columns]"
      ]
     },
     "execution_count": 41,
     "metadata": {},
     "output_type": "execute_result"
    }
   ],
   "source": [
    "wide_gdp_years = tidy_gdp.pivot(index='year', columns='country', values='value')\n",
    "wide_gdp_years"
   ]
  },
  {
   "cell_type": "code",
   "execution_count": 42,
   "metadata": {},
   "outputs": [
    {
     "data": {
      "text/plain": [
       "<AxesSubplot:xlabel='year'>"
      ]
     },
     "execution_count": 42,
     "metadata": {},
     "output_type": "execute_result"
    },
    {
     "data": {
      "image/png": "[encoded data removed]",
      "text/plain": [
       "<Figure size 432x288 with 1 Axes>"
      ]
     },
     "metadata": {
      "needs_background": "light"
     },
     "output_type": "display_data"
    }
   ],
   "source": [
    "wide_gdp_years[[\"Poland\", \"Croatia\", \"Austria\"]].plot()"
   ]
  },
  {
   "cell_type": "markdown",
   "metadata": {},
   "source": [
    "# Conclusions"
   ]
  },
  {
   "cell_type": "markdown",
   "metadata": {},
   "source": [
    "**Exercise** Given coronavirus cases data (source: WHO, https://covid19.who.int/table):\n",
    "\n",
    "1. Convert to wide format, where column 1 is country, column 2 is Region, column 3 is the total number of cases\n",
    "2. Calculate total of number of cases per region."
   ]
  },
  {
   "cell_type": "code",
   "execution_count": 43,
   "metadata": {},
   "outputs": [
    {
     "data": {
      "text/html": [
       "<div>\n",
       "<style scoped>\n",
       "    .dataframe tbody tr th:only-of-type {\n",
       "        vertical-align: middle;\n",
       "    }\n",
       "\n",
       "    .dataframe tbody tr th {\n",
       "        vertical-align: top;\n",
       "    }\n",
       "\n",
       "    .dataframe thead th {\n",
       "        text-align: right;\n",
       "    }\n",
       "</style>\n",
       "<table border=\"1\" class=\"dataframe\">\n",
       "  <thead>\n",
       "    <tr style=\"text-align: right;\">\n",
       "      <th></th>\n",
       "      <th>Name</th>\n",
       "      <th>WHO Region</th>\n",
       "      <th>Cases - cumulative total</th>\n",
       "      <th>Cases - cumulative total per 1 million population</th>\n",
       "      <th>Cases - newly reported in last 7 days</th>\n",
       "      <th>Cases - newly reported in last 24 hours</th>\n",
       "      <th>Deaths - cumulative total</th>\n",
       "      <th>Deaths - cumulative total per 1 million population</th>\n",
       "      <th>Deaths - newly reported in last 7 days</th>\n",
       "      <th>Deaths - newly reported in last 24 hours</th>\n",
       "      <th>Transmission Classification</th>\n",
       "    </tr>\n",
       "  </thead>\n",
       "  <tbody>\n",
       "    <tr>\n",
       "      <th>0</th>\n",
       "      <td>Global</td>\n",
       "      <td>NaN</td>\n",
       "      <td>96267473</td>\n",
       "      <td>12332.006396</td>\n",
       "      <td>4379850</td>\n",
       "      <td>624353</td>\n",
       "      <td>2082745</td>\n",
       "      <td>266.802731</td>\n",
       "      <td>94415</td>\n",
       "      <td>16079</td>\n",
       "      <td>NaN</td>\n",
       "    </tr>\n",
       "    <tr>\n",
       "      <th>1</th>\n",
       "      <td>United States of America</td>\n",
       "      <td>Americas</td>\n",
       "      <td>24225155</td>\n",
       "      <td>73187.190000</td>\n",
       "      <td>1353825</td>\n",
       "      <td>187919</td>\n",
       "      <td>402803</td>\n",
       "      <td>1216.920000</td>\n",
       "      <td>21281</td>\n",
       "      <td>4368</td>\n",
       "      <td>Community transmission</td>\n",
       "    </tr>\n",
       "    <tr>\n",
       "      <th>2</th>\n",
       "      <td>India</td>\n",
       "      <td>South-East Asia</td>\n",
       "      <td>10625428</td>\n",
       "      <td>7699.560000</td>\n",
       "      <td>97745</td>\n",
       "      <td>14545</td>\n",
       "      <td>153032</td>\n",
       "      <td>110.890000</td>\n",
       "      <td>1114</td>\n",
       "      <td>163</td>\n",
       "      <td>Clusters of cases</td>\n",
       "    </tr>\n",
       "    <tr>\n",
       "      <th>3</th>\n",
       "      <td>Brazil</td>\n",
       "      <td>Americas</td>\n",
       "      <td>8638249</td>\n",
       "      <td>40639.220000</td>\n",
       "      <td>381713</td>\n",
       "      <td>64385</td>\n",
       "      <td>212831</td>\n",
       "      <td>1001.280000</td>\n",
       "      <td>6867</td>\n",
       "      <td>1340</td>\n",
       "      <td>Community transmission</td>\n",
       "    </tr>\n",
       "    <tr>\n",
       "      <th>...</th>\n",
       "      <td>...</td>\n",
       "      <td>...</td>\n",
       "      <td>...</td>\n",
       "      <td>...</td>\n",
       "      <td>...</td>\n",
       "      <td>...</td>\n",
       "      <td>...</td>\n",
       "      <td>...</td>\n",
       "      <td>...</td>\n",
       "      <td>...</td>\n",
       "      <td>...</td>\n",
       "    </tr>\n",
       "    <tr>\n",
       "      <th>234</th>\n",
       "      <td>Tokelau</td>\n",
       "      <td>Western Pacific</td>\n",
       "      <td>0</td>\n",
       "      <td>0.000000</td>\n",
       "      <td>0</td>\n",
       "      <td>0</td>\n",
       "      <td>0</td>\n",
       "      <td>0.000000</td>\n",
       "      <td>0</td>\n",
       "      <td>0</td>\n",
       "      <td>No cases</td>\n",
       "    </tr>\n",
       "    <tr>\n",
       "      <th>235</th>\n",
       "      <td>Tonga</td>\n",
       "      <td>Western Pacific</td>\n",
       "      <td>0</td>\n",
       "      <td>0.000000</td>\n",
       "      <td>0</td>\n",
       "      <td>0</td>\n",
       "      <td>0</td>\n",
       "      <td>0.000000</td>\n",
       "      <td>0</td>\n",
       "      <td>0</td>\n",
       "      <td>No cases</td>\n",
       "    </tr>\n",
       "    <tr>\n",
       "      <th>236</th>\n",
       "      <td>Turkmenistan</td>\n",
       "      <td>Europe</td>\n",
       "      <td>0</td>\n",
       "      <td>0.000000</td>\n",
       "      <td>0</td>\n",
       "      <td>0</td>\n",
       "      <td>0</td>\n",
       "      <td>0.000000</td>\n",
       "      <td>0</td>\n",
       "      <td>0</td>\n",
       "      <td>No cases</td>\n",
       "    </tr>\n",
       "    <tr>\n",
       "      <th>237</th>\n",
       "      <td>Tuvalu</td>\n",
       "      <td>Western Pacific</td>\n",
       "      <td>0</td>\n",
       "      <td>0.000000</td>\n",
       "      <td>0</td>\n",
       "      <td>0</td>\n",
       "      <td>0</td>\n",
       "      <td>0.000000</td>\n",
       "      <td>0</td>\n",
       "      <td>0</td>\n",
       "      <td>No cases</td>\n",
       "    </tr>\n",
       "  </tbody>\n",
       "</table>\n",
       "<p>238 rows × 11 columns</p>\n",
       "</div>"
      ],
      "text/plain": [
       "                         Name       WHO Region  Cases - cumulative total  \\\n",
       "0                      Global              NaN                  96267473   \n",
       "1    United States of America         Americas                  24225155   \n",
       "2                       India  South-East Asia                  10625428   \n",
       "3                      Brazil         Americas                   8638249   \n",
       "..                        ...              ...                       ...   \n",
       "234                   Tokelau  Western Pacific                         0   \n",
       "235                     Tonga  Western Pacific                         0   \n",
       "236              Turkmenistan           Europe                         0   \n",
       "237                    Tuvalu  Western Pacific                         0   \n",
       "\n",
       "     Cases - cumulative total per 1 million population  \\\n",
       "0                                         12332.006396   \n",
       "1                                         73187.190000   \n",
       "2                                          7699.560000   \n",
       "3                                         40639.220000   \n",
       "..                                                 ...   \n",
       "234                                           0.000000   \n",
       "235                                           0.000000   \n",
       "236                                           0.000000   \n",
       "237                                           0.000000   \n",
       "\n",
       "     Cases - newly reported in last 7 days  \\\n",
       "0                                  4379850   \n",
       "1                                  1353825   \n",
       "2                                    97745   \n",
       "3                                   381713   \n",
       "..                                     ...   \n",
       "234                                      0   \n",
       "235                                      0   \n",
       "236                                      0   \n",
       "237                                      0   \n",
       "\n",
       "     Cases - newly reported in last 24 hours  Deaths - cumulative total  \\\n",
       "0                                     624353                    2082745   \n",
       "1                                     187919                     402803   \n",
       "2                                      14545                     153032   \n",
       "3                                      64385                     212831   \n",
       "..                                       ...                        ...   \n",
       "234                                        0                          0   \n",
       "235                                        0                          0   \n",
       "236                                        0                          0   \n",
       "237                                        0                          0   \n",
       "\n",
       "     Deaths - cumulative total per 1 million population  \\\n",
       "0                                           266.802731    \n",
       "1                                          1216.920000    \n",
       "2                                           110.890000    \n",
       "3                                          1001.280000    \n",
       "..                                                 ...    \n",
       "234                                           0.000000    \n",
       "235                                           0.000000    \n",
       "236                                           0.000000    \n",
       "237                                           0.000000    \n",
       "\n",
       "     Deaths - newly reported in last 7 days  \\\n",
       "0                                     94415   \n",
       "1                                     21281   \n",
       "2                                      1114   \n",
       "3                                      6867   \n",
       "..                                      ...   \n",
       "234                                       0   \n",
       "235                                       0   \n",
       "236                                       0   \n",
       "237                                       0   \n",
       "\n",
       "     Deaths - newly reported in last 24 hours Transmission Classification  \n",
       "0                                       16079                         NaN  \n",
       "1                                        4368      Community transmission  \n",
       "2                                         163           Clusters of cases  \n",
       "3                                        1340      Community transmission  \n",
       "..                                        ...                         ...  \n",
       "234                                         0                    No cases  \n",
       "235                                         0                    No cases  \n",
       "236                                         0                    No cases  \n",
       "237                                         0                    No cases  \n",
       "\n",
       "[238 rows x 11 columns]"
      ]
     },
     "execution_count": 43,
     "metadata": {},
     "output_type": "execute_result"
    }
   ],
   "source": [
    "pd.read_csv(\"data/WHO COVID-19 global table data January 22nd 2021 at 9.16.23 PM.csv\")"
   ]
  },
  {
   "cell_type": "markdown",
   "metadata": {},
   "source": [
    "go to [Matplotlib](introduction_to_matplolib.ipynb)"
   ]
  },
  {
   "cell_type": "code",
   "execution_count": null,
   "metadata": {},
   "outputs": [],
   "source": []
  }
 ],
 "metadata": {
  "celltoolbar": "Slideshow",
  "kernelspec": {
   "display_name": "Python 3",
   "language": "python",
   "name": "python3"
  },
  "language_info": {
   "codemirror_mode": {
    "name": "ipython",
    "version": 3
   },
   "file_extension": ".py",
   "mimetype": "text/x-python",
   "name": "python",
   "nbconvert_exporter": "python",
   "pygments_lexer": "ipython3",
   "version": "3.9.1"
  }
 },
 "nbformat": 4,
 "nbformat_minor": 4
}
