{
 "cells": [
  {
   "cell_type": "markdown",
   "metadata": {},
   "source": [
    "# Programming in Python\n",
    "\n",
    "## Uniwersytet Jagielloński\n",
    "\n",
    "### January 25-26, 2021\n",
    "\n",
    "**Instructor**: Maria Telenczuk\n",
    "\n",
    "**Helper**: Bartosz Telenczuk\n",
    "\n",
    "**webpage**: https://btel.github.io/2021-uj-python/\n",
    "\n",
    "**additional references**: "
   ]
  },
  {
   "cell_type": "markdown",
   "metadata": {},
   "source": [
    "# Quick introduction to Jupyter Notebook\n",
    "\n",
    "Jupyter Notebook is web-based and it runs locally on your computer (ie does not require an internet connection).\n",
    "\n",
    "You will be able to see the results of your lines of code directly below the cell which you execute.\n",
    "\n",
    "to run Jupyter notebook in your terminal type:\n",
    "`jupyter notebook`\n",
    "\n",
    "alternatively you may want to run Jupyter lab which is more advanced product of jupyter:\n",
    "`jupyter lab`\n",
    "\n",
    "**Esc** : takes you into command mode, there you can use:\n",
    "\n",
    "    a : insert a new cell above\n",
    "    b : insert a new cell below\n",
    "    m : change the current cell to Markdown\n",
    "    y : change the current cell to code\n",
    "    x : delete the current cell\n",
    "    z : undo your last cell operation\n",
    "    \n",
    "You can also use menus to perform those actions\n",
    "\n",
    "**Enter** : go back to edit mode\n",
    "\n",
    "**Shift + Enter** : execute the cell, move to the cell below\n",
    "\n",
    "**?** : help"
   ]
  },
  {
   "cell_type": "markdown",
   "metadata": {},
   "source": [
    "go to [Introduction to numpy](python_intro.ipynb)"
   ]
  },
  {
   "cell_type": "code",
   "execution_count": null,
   "metadata": {},
   "outputs": [],
   "source": []
  }
 ],
 "metadata": {
  "kernelspec": {
   "display_name": "Python 3",
   "language": "python",
   "name": "python3"
  },
  "language_info": {
   "codemirror_mode": {
    "name": "ipython",
    "version": 3
   },
   "file_extension": ".py",
   "mimetype": "text/x-python",
   "name": "python",
   "nbconvert_exporter": "python",
   "pygments_lexer": "ipython3",
   "version": "3.7.4"
  }
 },
 "nbformat": 4,
 "nbformat_minor": 2
}
