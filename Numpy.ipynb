{
 "cells": [
  {
   "cell_type": "markdown",
   "metadata": {},
   "source": [
    "## Numpy\n",
    "\n",
    "We discussed previously the built-in functions. They allow us to work faster and more efficiently.\n",
    "\n",
    "However, you might find yourself trying to solve some specific task. For this you might be interested in using functions which can be found in one of the libraries.\n",
    "\n",
    "You can think of a library as of box with different functions stored in it. If you bring the box to your program you can use whatever is in that box.\n",
    "\n",
    "Now we will use a library called `numpy` which stands for numeric Python and is frequently used for scientific computing. You should use it if you want to do fancy things with numbers, especially if you have matrices or arrays."
   ]
  },
  {
   "cell_type": "markdown",
   "metadata": {},
   "source": [
    "To use a library you will first need to tell Python you want to import it to your program. You should already have `numpy` on the computer as it comes with conda distribution:"
   ]
  },
  {
   "cell_type": "code",
   "execution_count": 1,
   "metadata": {},
   "outputs": [],
   "source": [
    "import numpy as np"
   ]
  },
  {
   "cell_type": "markdown",
   "metadata": {},
   "source": [
    "Here we told Python: import library called numpy and from now we will call it np.\n",
    "\n",
    "To use functions from the numpy library we will now have to type `np.` followed by the function name."
   ]
  },
  {
   "cell_type": "markdown",
   "metadata": {},
   "source": [
    "Let's first create a simple numpy array:"
   ]
  },
  {
   "cell_type": "code",
   "execution_count": 2,
   "metadata": {},
   "outputs": [
    {
     "name": "stdout",
     "output_type": "stream",
     "text": [
      "[2 3 4]\n",
      "<class 'numpy.ndarray'>\n"
     ]
    }
   ],
   "source": [
    "x = np.array([2, 3, 4])\n",
    "print(x)\n",
    "print(type(x))"
   ]
  },
  {
   "cell_type": "markdown",
   "metadata": {},
   "source": [
    "### Lists vs Numpy arrays\n",
    "\n",
    "It looks similar to the list. However there are important differences between lists and arrays:\n",
    "\n",
    "**list**\n",
    "```\n",
    "- is resizeable\n",
    "- can contain elements of different types\n",
    "```\n",
    "**numpy array**\n",
    "```\n",
    "- takes up less space\n",
    "- faster than list (performance)\n",
    "- numpy has optimized functions such as linear algebra operations built in\n",
    "```"
   ]
  },
  {
   "cell_type": "markdown",
   "metadata": {},
   "source": [
    "## Memory layout\n",
    "\n",
    "NumPy array is just a memory block with extra information how to interpret its contents.\n",
    "\n",
    "To construct an array with pre-defined elements we can also use other built-in helper functions:\n",
    "\n",
    "np.ones and np.zeros return arrays of 0s or 1s;"
   ]
  },
  {
   "cell_type": "code",
   "execution_count": 3,
   "metadata": {},
   "outputs": [
    {
     "data": {
      "text/plain": [
       "array([1., 1., 1., 1., 1.])"
      ]
     },
     "execution_count": 3,
     "metadata": {},
     "output_type": "execute_result"
    }
   ],
   "source": [
    "np.ones(5)"
   ]
  },
  {
   "cell_type": "code",
   "execution_count": 4,
   "metadata": {},
   "outputs": [
    {
     "data": {
      "text/plain": [
       "array([0., 0., 0., 0., 0.])"
      ]
     },
     "execution_count": 4,
     "metadata": {},
     "output_type": "execute_result"
    }
   ],
   "source": [
    "np.zeros(5)"
   ]
  },
  {
   "cell_type": "markdown",
   "metadata": {},
   "source": [
    "**np.random.rand** creates an array of random numbers from an interval [0, 1]:"
   ]
  },
  {
   "cell_type": "code",
   "execution_count": 5,
   "metadata": {},
   "outputs": [
    {
     "data": {
      "text/plain": [
       "array([0.686464  , 0.64287051, 0.33471704, 0.03908853, 0.86672989])"
      ]
     },
     "execution_count": 5,
     "metadata": {},
     "output_type": "execute_result"
    }
   ],
   "source": [
    "np.random.rand(5)"
   ]
  },
  {
   "cell_type": "markdown",
   "metadata": {},
   "source": [
    "we can use `np.arange()` if we want a sequence of numbers:"
   ]
  },
  {
   "cell_type": "code",
   "execution_count": 6,
   "metadata": {},
   "outputs": [
    {
     "data": {
      "text/plain": [
       "array([0, 1, 2, 3, 4])"
      ]
     },
     "execution_count": 6,
     "metadata": {},
     "output_type": "execute_result"
    }
   ],
   "source": [
    "np.arange(5)"
   ]
  },
  {
   "cell_type": "code",
   "execution_count": 7,
   "metadata": {},
   "outputs": [
    {
     "data": {
      "text/plain": [
       "array([2, 3, 4])"
      ]
     },
     "execution_count": 7,
     "metadata": {},
     "output_type": "execute_result"
    }
   ],
   "source": [
    "np.arange(2,5)"
   ]
  },
  {
   "cell_type": "code",
   "execution_count": 8,
   "metadata": {},
   "outputs": [
    {
     "data": {
      "text/plain": [
       "array([2, 4, 6, 8])"
      ]
     },
     "execution_count": 8,
     "metadata": {},
     "output_type": "execute_result"
    }
   ],
   "source": [
    "np.arange(2,9,2)"
   ]
  },
  {
   "cell_type": "markdown",
   "metadata": {},
   "source": [
    "## Quick question\n",
    "\n",
    "What can you do if you want to get random numbers between 0 and 10?"
   ]
  },
  {
   "cell_type": "markdown",
   "metadata": {},
   "source": [
    "## Answer\n",
    "\n",
    "np.random.rand(5)*10"
   ]
  },
  {
   "cell_type": "markdown",
   "metadata": {},
   "source": [
    "We can also construct a two- or more dimensional arrays:"
   ]
  },
  {
   "cell_type": "code",
   "execution_count": 9,
   "metadata": {},
   "outputs": [
    {
     "data": {
      "text/plain": [
       "array([[1, 2],\n",
       "       [3, 4]])"
      ]
     },
     "execution_count": 9,
     "metadata": {},
     "output_type": "execute_result"
    }
   ],
   "source": [
    "np.array([[1, 2],[3, 4]])"
   ]
  },
  {
   "cell_type": "code",
   "execution_count": 10,
   "metadata": {},
   "outputs": [
    {
     "data": {
      "text/plain": [
       "array([[1., 1.],\n",
       "       [1., 1.]])"
      ]
     },
     "execution_count": 10,
     "metadata": {},
     "output_type": "execute_result"
    }
   ],
   "source": [
    "np.ones((2, 2))"
   ]
  },
  {
   "cell_type": "markdown",
   "metadata": {},
   "source": [
    "Alternatively, a n-dimensional array can be obtained by reshaping a 1-D array:"
   ]
  },
  {
   "cell_type": "code",
   "execution_count": 11,
   "metadata": {
    "scrolled": true
   },
   "outputs": [
    {
     "data": {
      "text/plain": [
       "array([[ 0,  1,  2],\n",
       "       [ 3,  4,  5],\n",
       "       [ 6,  7,  8],\n",
       "       [ 9, 10, 11]])"
      ]
     },
     "execution_count": 11,
     "metadata": {},
     "output_type": "execute_result"
    }
   ],
   "source": [
    "a = np.arange(12)\n",
    "a.reshape((4,3))"
   ]
  },
  {
   "cell_type": "markdown",
   "metadata": {},
   "source": [
    "## Working with a dataset\n",
    "\n",
    "link to data:\n",
    "https://github.com/btel/2021-uj-python-materials/blob/master/paris_weather.csv\n",
    "\n",
    "We will now work with a dataset. The dataset is of a format `.csv` which means comma separated values. Microsoft excel can also view this type of files. \n",
    "\n",
    "To load this dataset to Python we will use function from numpy called `loadtxt()`.\n",
    "\n",
    "`numpy.loadtxt()` takes two parameters: the name of the wile which we wnt to read and the delimiter that separated values on a line. Both of them are character strings:"
   ]
  },
  {
   "cell_type": "code",
   "execution_count": 12,
   "metadata": {},
   "outputs": [],
   "source": [
    "data = np.loadtxt(fname='paris_leap_year_weather.csv', delimiter=',')"
   ]
  },
  {
   "cell_type": "markdown",
   "metadata": {},
   "source": [
    "We will be studying the weather in Paris on the leap years of the first half of XXth century.\n",
    "\n",
    "out of interest, years: 1904, 1912, 1916, 1920, 1924, 1928, 1932, 1936, 1940, 1944, 1948, 1952"
   ]
  },
  {
   "cell_type": "markdown",
   "metadata": {},
   "source": [
    "## Explore array"
   ]
  },
  {
   "cell_type": "code",
   "execution_count": 13,
   "metadata": {},
   "outputs": [
    {
     "name": "stdout",
     "output_type": "stream",
     "text": [
      "[[ 0.3  3.9  6.  ...  7.3 10.2  6.9]\n",
      " [ 7.4  8.3  7.4 ... 10.2  9.5  2.6]\n",
      " [13.7 13.9 14.1 ... 12.9 11.8 11.7]\n",
      " ...\n",
      " [ 8.6  9.4  9.6 ...  1.2  2.9  3.8]\n",
      " [11.6 13.8 14.4 ...  8.3  6.6  7. ]\n",
      " [ 8.7 10.4  5.7 ...  4.2  1.4  0.4]]\n"
     ]
    }
   ],
   "source": [
    "print(data)"
   ]
  },
  {
   "cell_type": "markdown",
   "metadata": {},
   "source": [
    "In contrast to lists NumPy arrays can store elements of pre-determined type only. The type function will only tell you that a variable is a NumPy array but won’t tell you the type of thing inside the array. We can find out the type of the data contained in the NumPy array."
   ]
  },
  {
   "cell_type": "code",
   "execution_count": 14,
   "metadata": {},
   "outputs": [
    {
     "name": "stdout",
     "output_type": "stream",
     "text": [
      "float64\n"
     ]
    }
   ],
   "source": [
    "print(data.dtype)"
   ]
  },
  {
   "cell_type": "markdown",
   "metadata": {},
   "source": [
    "and the shape of the array"
   ]
  },
  {
   "cell_type": "code",
   "execution_count": 15,
   "metadata": {},
   "outputs": [
    {
     "data": {
      "text/plain": [
       "(12, 366)"
      ]
     },
     "execution_count": 15,
     "metadata": {},
     "output_type": "execute_result"
    }
   ],
   "source": [
    "data.shape"
   ]
  },
  {
   "cell_type": "markdown",
   "metadata": {},
   "source": [
    "meaning that data array variable contains 12 rows and 366 columns"
   ]
  },
  {
   "cell_type": "markdown",
   "metadata": {},
   "source": [
    "## Plotting the data"
   ]
  },
  {
   "cell_type": "code",
   "execution_count": 16,
   "metadata": {},
   "outputs": [
    {
     "data": {
      "text/plain": [
       "<Figure size 640x480 with 1 Axes>"
      ]
     },
     "metadata": {},
     "output_type": "display_data"
    }
   ],
   "source": [
    "import matplotlib.pyplot as plt\n",
    "plt.imshow(data)\n",
    "plt.show()"
   ]
  },
  {
   "cell_type": "code",
   "execution_count": 17,
   "metadata": {},
   "outputs": [],
   "source": [
    "%matplotlib inline"
   ]
  },
  {
   "cell_type": "code",
   "execution_count": 18,
   "metadata": {},
   "outputs": [
    {
     "data": {
      "text/plain": [
       "<matplotlib.image.AxesImage at 0x7f2ff4ad7f90>"
      ]
     },
     "execution_count": 18,
     "metadata": {},
     "output_type": "execute_result"
    },
    {
     "data": {
      "image/png": "[encoded data removed]",
      "text/plain": [
       "<Figure size 432x288 with 1 Axes>"
      ]
     },
     "metadata": {
      "needs_background": "light"
     },
     "output_type": "display_data"
    }
   ],
   "source": [
    "plt.imshow(data)"
   ]
  },
  {
   "cell_type": "markdown",
   "metadata": {},
   "source": [
    "We do not see much on this image because we have many more datapoints on the `y` axis. You will learn more about matplotlib and how to make pretty plots later during this workshop."
   ]
  },
  {
   "cell_type": "code",
   "execution_count": 19,
   "metadata": {},
   "outputs": [
    {
     "data": {
      "text/plain": [
       "(-0.5, 365.5, 11.5, -0.5)"
      ]
     },
     "execution_count": 19,
     "metadata": {},
     "output_type": "execute_result"
    },
    {
     "data": {
      "image/png": "[encoded data removed]",
      "text/plain": [
       "<Figure size 432x288 with 1 Axes>"
      ]
     },
     "metadata": {
      "needs_background": "light"
     },
     "output_type": "display_data"
    }
   ],
   "source": [
    "plt.imshow(data)\n",
    "plt.axis('auto')"
   ]
  },
  {
   "cell_type": "markdown",
   "metadata": {},
   "source": [
    "## Indexing"
   ]
  },
  {
   "cell_type": "markdown",
   "metadata": {},
   "source": [
    "## Quick question\n",
    "\n",
    "Do you remember how to index the data? What do we need to do to get the first row of this data?\n",
    "\n",
    "## Answer\n",
    "\n",
    "data[0]"
   ]
  },
  {
   "cell_type": "code",
   "execution_count": 20,
   "metadata": {},
   "outputs": [
    {
     "data": {
      "text/plain": [
       "array([ 0.3,  3.9,  6. ,  6.5,  4. ,  0.7, -0.4,  3.8,  7. ,  3.1,  2.3,\n",
       "        7.4, 11.4,  9.5,  7.2,  5. ,  3.8,  4.4,  5. , -0.6, -0.7,  2. ,\n",
       "        1.3,  0.1,  0.8, -0.9,  7. , 10.4,  9.6, 10.6,  7.6,  3.6,  7.3,\n",
       "       10.8,  9.1,  5. ,  7. ,  9. , 11.1,  8.1, 11.1, 11.3,  9.7, 11.3,\n",
       "        8.2,  8. ,  7.4,  9.9,  5.4,  6.3, 10.5, 11.8,  9.3,  5.7,  5.1,\n",
       "        3.8,  1.4,  2.2, -0.2,  0.7,  0.9,  1. ,  5.1,  9.1, 10.5, 10.8,\n",
       "       13.7, 14.9,  9.5,  8.3,  6.9,  4.8,  9.8, 13. ,  8.1,  9.3, 10.7,\n",
       "       11.3, 14.1, 13.9, 12.7, 12.7,  9.1,  9.3,  6.5, 13.6, 12.3,  7.9,\n",
       "       10.1,  9.1, 11.3, 13. , 13. , 13.6, 12. , 11.5, 12.9, 11. , 12.7,\n",
       "       15.1, 13.1, 13.9, 22. , 17. , 22.2, 23. , 13.1, 18.1, 19. , 18.5,\n",
       "       20.7, 10.8, 15. , 13.8, 16. , 14.1, 13.9, 14.1, 18.4, 19.9, 21. ,\n",
       "       21.9, 16.6, 17.5, 16.4, 20. , 14. , 14.1, 13.2, 14.1, 18. , 17.6,\n",
       "       18.8, 22. , 27. , 23.1, 27.7, 27.2, 18.2, 18.7, 19.1, 16.7, 19.1,\n",
       "       17.2, 22.2, 21.5, 28.1, 21.1, 21.3, 23.9, 27.1, 18.9, 18.8, 15.1,\n",
       "       19. , 19.7, 23.9, 24. , 25.2, 21.8, 13.6, 20. , 22.9, 18. , 22.5,\n",
       "       25.9, 23.6, 26. , 29.5, 20. , 22.5, 22.1, 21. , 22.6, 24.4, 30.1,\n",
       "       21.1, 22. , 21.2, 22.4, 25.2, 28. , 23. , 21.5, 25. , 23.2, 26. ,\n",
       "       24.6, 28. , 29.9, 30.3, 30.5, 30.9, 30. , 29. , 32.1, 35.5, 33.6,\n",
       "       37.1, 32.3, 31.3, 26. , 28.2, 28.9, 31.6, 32.1, 26.9, 19. , 22.1,\n",
       "       23.9, 25.7, 30. , 22.7, 27. , 29. , 30.7, 34.8, 27.2, 28. , 22. ,\n",
       "       23.6, 26. , 24.2, 25.8, 22.3, 26.5, 29.6, 25.4, 24.3, 30.6, 21. ,\n",
       "       22.8, 21.6, 23.4, 23.5, 19.2, 16.7, 18.5, 17.8, 25. , 25.3, 28. ,\n",
       "       27.1, 22.6, 16.2, 19. , 16.3, 20.7, 24.8, 25.8, 21. , 19. , 17.8,\n",
       "       18.7, 20.4, 19.9, 17.1, 18.1, 19.4, 16. , 19.9, 20. , 19.1, 16. ,\n",
       "       16.4, 16.6, 14.6, 17.1, 17.1, 20.2, 20.1, 18.6, 14.5, 15.1, 14.8,\n",
       "       16.9, 21.4, 15.9, 15.6, 17.8, 16.7, 11.7, 12. , 13.2, 13.1, 15.1,\n",
       "       15.3, 13.8, 13.1, 11. , 13.1, 17. , 20.9, 20. , 17.2, 15.1, 18. ,\n",
       "       19.9, 15.3, 14.5, 13.9, 13. , 11.2, 13.1, 14. , 12.4,  8.6,  9.6,\n",
       "       10. ,  5.5,  8.6, 11.1, 12. , 14.1, 14.5, 15.3, 14.7, 12.9, 11. ,\n",
       "        9.3,  8.8,  7.6,  6.7,  6.1,  6.1,  7.7,  6.2,  1.6,  2. ,  3. ,\n",
       "        0. ,  4. ,  2.9,  3. ,  8.4,  9.9,  8.8,  9.4,  9.6, 10.9, 12.2,\n",
       "       15.1,  6.8,  6.3,  9. ,  7.1,  9. ,  6.7,  5.9,  9. , 12. , 11.8,\n",
       "       10.6,  9.5,  4.9,  4.3,  2.5,  4.5,  3.9,  6.2,  2.3,  4. ,  0.9,\n",
       "        7.3, 10.2,  6.9])"
      ]
     },
     "execution_count": 20,
     "metadata": {},
     "output_type": "execute_result"
    }
   ],
   "source": [
    "data[0]"
   ]
  },
  {
   "cell_type": "markdown",
   "metadata": {},
   "source": [
    "What should we do to get the first day of the first year?"
   ]
  },
  {
   "cell_type": "code",
   "execution_count": 21,
   "metadata": {},
   "outputs": [
    {
     "data": {
      "text/plain": [
       "0.3"
      ]
     },
     "execution_count": 21,
     "metadata": {},
     "output_type": "execute_result"
    }
   ],
   "source": [
    "data[0, 0]"
   ]
  },
  {
   "cell_type": "markdown",
   "metadata": {},
   "source": [
    "And a second day of the same year?"
   ]
  },
  {
   "cell_type": "code",
   "execution_count": 22,
   "metadata": {},
   "outputs": [
    {
     "data": {
      "text/plain": [
       "3.9"
      ]
     },
     "execution_count": 22,
     "metadata": {},
     "output_type": "execute_result"
    }
   ],
   "source": [
    "data[0, 1]"
   ]
  },
  {
   "cell_type": "markdown",
   "metadata": {},
   "source": [
    "We can also assign different elements to that value:"
   ]
  },
  {
   "cell_type": "code",
   "execution_count": 23,
   "metadata": {},
   "outputs": [
    {
     "name": "stdout",
     "output_type": "stream",
     "text": [
      "20.0\n"
     ]
    }
   ],
   "source": [
    "data[0, 1] = 20\n",
    "print(data[0, 1])"
   ]
  },
  {
   "cell_type": "markdown",
   "metadata": {},
   "source": [
    "Finally, we can ask for several elements at once:"
   ]
  },
  {
   "cell_type": "code",
   "execution_count": 24,
   "metadata": {},
   "outputs": [
    {
     "data": {
      "text/plain": [
       "array([0.3, 2.3])"
      ]
     },
     "execution_count": 24,
     "metadata": {},
     "output_type": "execute_result"
    }
   ],
   "source": [
    "data[0, [0, 10]]"
   ]
  },
  {
   "cell_type": "markdown",
   "metadata": {},
   "source": [
    "## Quick question\n",
    "\n",
    "Create the following array, call it a:\n",
    "```\n",
    "a =\n",
    "\n",
    "2  7 12  0\n",
    "3  9  3  4\n",
    "4  0  1  3\n",
    "```\n",
    "use a to assign 4, 1 and 3 from the third row to array b"
   ]
  },
  {
   "cell_type": "markdown",
   "metadata": {},
   "source": [
    "## Answer\n",
    "```\n",
    "a = np.array([[2, 7, 12, 0], [3, 9, 3, 4], [4, 0, 1, 3]])\n",
    "b = a[2, [0, 2, 3]]\n",
    "print(b)\n",
    "```"
   ]
  },
  {
   "cell_type": "markdown",
   "metadata": {},
   "source": [
    "## Filtering data\n",
    "\n",
    "Sometimes we may want to select array elements based on their values. For this case boolean mask is very useful. The mask is an array of the same length as the indexed array containg only False or True values:"
   ]
  },
  {
   "cell_type": "markdown",
   "metadata": {},
   "source": [
    "False and True are special words in Python which are called booleans."
   ]
  },
  {
   "cell_type": "code",
   "execution_count": 25,
   "metadata": {},
   "outputs": [
    {
     "name": "stdout",
     "output_type": "stream",
     "text": [
      "[0 1 2 3]\n"
     ]
    }
   ],
   "source": [
    "a = np.arange(4)\n",
    "print(a)"
   ]
  },
  {
   "cell_type": "code",
   "execution_count": 26,
   "metadata": {},
   "outputs": [],
   "source": [
    "mask = np.array([False, True, True, False])"
   ]
  },
  {
   "cell_type": "code",
   "execution_count": 27,
   "metadata": {},
   "outputs": [
    {
     "name": "stdout",
     "output_type": "stream",
     "text": [
      "[1 2]\n"
     ]
    }
   ],
   "source": [
    "print(a[mask])"
   ]
  },
  {
   "cell_type": "markdown",
   "metadata": {},
   "source": [
    "In most cases the mask is constructed from the values of the array itself. For example, to select only odd numbers we could use the following mask:"
   ]
  },
  {
   "cell_type": "code",
   "execution_count": 28,
   "metadata": {},
   "outputs": [
    {
     "data": {
      "text/plain": [
       "array([False,  True, False,  True])"
      ]
     },
     "execution_count": 28,
     "metadata": {},
     "output_type": "execute_result"
    }
   ],
   "source": [
    "odd = (a % 2) == 1\n",
    "odd"
   ]
  },
  {
   "cell_type": "code",
   "execution_count": 29,
   "metadata": {},
   "outputs": [
    {
     "data": {
      "text/plain": [
       "array([1, 3])"
      ]
     },
     "execution_count": 29,
     "metadata": {},
     "output_type": "execute_result"
    }
   ],
   "source": [
    "a[odd]"
   ]
  },
  {
   "cell_type": "markdown",
   "metadata": {},
   "source": [
    "This could be also done in a single step:\n",
    "\n"
   ]
  },
  {
   "cell_type": "code",
   "execution_count": 30,
   "metadata": {},
   "outputs": [
    {
     "data": {
      "text/plain": [
       "array([1, 3])"
      ]
     },
     "execution_count": 30,
     "metadata": {},
     "output_type": "execute_result"
    }
   ],
   "source": [
    "a[(a % 2) == 1]"
   ]
  },
  {
   "cell_type": "markdown",
   "metadata": {},
   "source": [
    "## Quick question\n",
    "\n",
    "In the `data` how can you select all the temperatures above 20?"
   ]
  },
  {
   "cell_type": "markdown",
   "metadata": {},
   "source": [
    "## Answer\n",
    "\n",
    "mask_above20 = data > 20\n",
    "\n",
    "data[mask_above20]"
   ]
  },
  {
   "cell_type": "markdown",
   "metadata": {},
   "source": [
    "We can also substitute the measurement with a new value:"
   ]
  },
  {
   "cell_type": "code",
   "execution_count": 31,
   "metadata": {},
   "outputs": [
    {
     "name": "stdout",
     "output_type": "stream",
     "text": [
      "[ 7.4  8.3  7.4  8.6  8.2 10.  10.   5.4 10.   6.8  6.4  6.1  8.   5.8\n",
      "  4.1  6.9  6.2  9.6 10.   8.3  6.6  8.   8.9  9.8  5.6  5.   4.1  1.8\n",
      "  3.1  2.6  5.8  5.6  1.3 -0.4 -0.3  5.4  8.1 10.  10.  10.  10.  10.\n",
      " 10.  10.   9.1  9.5 10.  10.  10.  10.  10.  10.  10.  10.  10.  10.\n",
      " 10.  10.  10.  10.  10.  10.  10.  10.  10.  10.  10.  10.  10.  10.\n",
      " 10.  10.  10.  10.  10.  10.  10.  10.  10.  10.  10.  10.  10.  10.\n",
      " 10.  10.  10.  10.  10.  10.  10.   8.5 10.  10.  10.  10.  10.  10.\n",
      " 10.   9.6 10.  10.  10.  10.  10.  10.  10.  10.  10.  10.  10.  10.\n",
      " 10.  10.  10.  10.  10.  10.  10.  10.  10.  10.  10.  10.  10.  10.\n",
      " 10.  10.  10.  10.  10.  10.  10.  10.  10.  10.  10.  10.  10.  10.\n",
      " 10.  10.  10.  10.  10.  10.  10.  10.  10.  10.  10.  10.  10.  10.\n",
      " 10.  10.  10.  10.  10.  10.  10.  10.  10.  10.  10.  10.  10.  10.\n",
      " 10.  10.  10.  10.  10.  10.  10.  10.  10.  10.  10.  10.  10.  10.\n",
      " 10.  10.  10.  10.  10.  10.  10.  10.  10.  10.  10.  10.  10.  10.\n",
      " 10.  10.  10.  10.  10.  10.  10.  10.  10.  10.  10.  10.  10.  10.\n",
      " 10.  10.  10.  10.  10.  10.  10.  10.  10.  10.  10.  10.  10.  10.\n",
      " 10.  10.  10.  10.  10.  10.  10.  10.  10.  10.  10.  10.  10.  10.\n",
      " 10.  10.  10.  10.  10.  10.  10.  10.  10.  10.  10.  10.  10.  10.\n",
      " 10.  10.  10.  10.  10.  10.  10.  10.  10.  10.  10.  10.  10.  10.\n",
      " 10.  10.  10.  10.  10.  10.  10.  10.  10.  10.  10.  10.  10.  10.\n",
      " 10.  10.  10.  10.  10.  10.  10.  10.  10.  10.  10.  10.  10.  10.\n",
      " 10.  10.   8.7 10.  10.  10.  10.  10.  10.  10.  10.   9.   8.2  8.9\n",
      "  8.6  5.9  9.6  7.4 10.  10.  10.   9.5  7.1  5.8  6.5  8.2  9.1  8.3\n",
      "  9.   8.3  9.9 10.  10.   8.8 10.   8.2  7.5  8.6  6.8  8.4  7.5  5.1\n",
      "  8.6  7.6  1.4  3.6  9.8  8.8  9.6  5.6  6.5  9.1 10.   8.2 10.  10.\n",
      " 10.   7.6  4.5  4.9  6.   7.5  8.2  6.3 10.  10.   9.6 10.  10.  10.\n",
      "  9.5  2.6]\n"
     ]
    }
   ],
   "source": [
    "weather_year1 = data[1, :]\n",
    "weather_year1[weather_year1 > 10] = 10\n",
    "print(weather_year1)"
   ]
  },
  {
   "cell_type": "markdown",
   "metadata": {},
   "source": [
    "## Slicing arrays"
   ]
  },
  {
   "cell_type": "markdown",
   "metadata": {},
   "source": [
    "We already talked about slicing of the lists and strings. It is also possible to slice numpy arrays"
   ]
  },
  {
   "cell_type": "markdown",
   "metadata": {},
   "source": [
    "## Quick Question\n",
    "\n",
    "Do you know how we could take the first 10 days from the second year?\n",
    "\n",
    "## Answer\n",
    "\n",
    "data[1, :10]"
   ]
  },
  {
   "cell_type": "markdown",
   "metadata": {},
   "source": [
    "If you omit both indices in the slice leaving out only the colon (:), you will get all columns of this row:"
   ]
  },
  {
   "cell_type": "code",
   "execution_count": 32,
   "metadata": {},
   "outputs": [
    {
     "data": {
      "text/plain": [
       "array([ 7.4,  8.3,  7.4,  8.6,  8.2, 10. , 10. ,  5.4, 10. ,  6.8,  6.4,\n",
       "        6.1,  8. ,  5.8,  4.1,  6.9,  6.2,  9.6, 10. ,  8.3,  6.6,  8. ,\n",
       "        8.9,  9.8,  5.6,  5. ,  4.1,  1.8,  3.1,  2.6,  5.8,  5.6,  1.3,\n",
       "       -0.4, -0.3,  5.4,  8.1, 10. , 10. , 10. , 10. , 10. , 10. , 10. ,\n",
       "        9.1,  9.5, 10. , 10. , 10. , 10. , 10. , 10. , 10. , 10. , 10. ,\n",
       "       10. , 10. , 10. , 10. , 10. , 10. , 10. , 10. , 10. , 10. , 10. ,\n",
       "       10. , 10. , 10. , 10. , 10. , 10. , 10. , 10. , 10. , 10. , 10. ,\n",
       "       10. , 10. , 10. , 10. , 10. , 10. , 10. , 10. , 10. , 10. , 10. ,\n",
       "       10. , 10. , 10. ,  8.5, 10. , 10. , 10. , 10. , 10. , 10. , 10. ,\n",
       "        9.6, 10. , 10. , 10. , 10. , 10. , 10. , 10. , 10. , 10. , 10. ,\n",
       "       10. , 10. , 10. , 10. , 10. , 10. , 10. , 10. , 10. , 10. , 10. ,\n",
       "       10. , 10. , 10. , 10. , 10. , 10. , 10. , 10. , 10. , 10. , 10. ,\n",
       "       10. , 10. , 10. , 10. , 10. , 10. , 10. , 10. , 10. , 10. , 10. ,\n",
       "       10. , 10. , 10. , 10. , 10. , 10. , 10. , 10. , 10. , 10. , 10. ,\n",
       "       10. , 10. , 10. , 10. , 10. , 10. , 10. , 10. , 10. , 10. , 10. ,\n",
       "       10. , 10. , 10. , 10. , 10. , 10. , 10. , 10. , 10. , 10. , 10. ,\n",
       "       10. , 10. , 10. , 10. , 10. , 10. , 10. , 10. , 10. , 10. , 10. ,\n",
       "       10. , 10. , 10. , 10. , 10. , 10. , 10. , 10. , 10. , 10. , 10. ,\n",
       "       10. , 10. , 10. , 10. , 10. , 10. , 10. , 10. , 10. , 10. , 10. ,\n",
       "       10. , 10. , 10. , 10. , 10. , 10. , 10. , 10. , 10. , 10. , 10. ,\n",
       "       10. , 10. , 10. , 10. , 10. , 10. , 10. , 10. , 10. , 10. , 10. ,\n",
       "       10. , 10. , 10. , 10. , 10. , 10. , 10. , 10. , 10. , 10. , 10. ,\n",
       "       10. , 10. , 10. , 10. , 10. , 10. , 10. , 10. , 10. , 10. , 10. ,\n",
       "       10. , 10. , 10. , 10. , 10. , 10. , 10. , 10. , 10. , 10. , 10. ,\n",
       "       10. , 10. , 10. , 10. , 10. , 10. , 10. , 10. , 10. , 10. , 10. ,\n",
       "       10. , 10. , 10. , 10. , 10. , 10. , 10. , 10. , 10. , 10. , 10. ,\n",
       "       10. , 10. , 10. , 10. , 10. , 10. , 10. , 10. , 10. , 10. ,  8.7,\n",
       "       10. , 10. , 10. , 10. , 10. , 10. , 10. , 10. ,  9. ,  8.2,  8.9,\n",
       "        8.6,  5.9,  9.6,  7.4, 10. , 10. , 10. ,  9.5,  7.1,  5.8,  6.5,\n",
       "        8.2,  9.1,  8.3,  9. ,  8.3,  9.9, 10. , 10. ,  8.8, 10. ,  8.2,\n",
       "        7.5,  8.6,  6.8,  8.4,  7.5,  5.1,  8.6,  7.6,  1.4,  3.6,  9.8,\n",
       "        8.8,  9.6,  5.6,  6.5,  9.1, 10. ,  8.2, 10. , 10. , 10. ,  7.6,\n",
       "        4.5,  4.9,  6. ,  7.5,  8.2,  6.3, 10. , 10. ,  9.6, 10. , 10. ,\n",
       "       10. ,  9.5,  2.6])"
      ]
     },
     "execution_count": 32,
     "metadata": {},
     "output_type": "execute_result"
    }
   ],
   "source": [
    "data[1, :]"
   ]
  },
  {
   "cell_type": "markdown",
   "metadata": {},
   "source": [
    "You can also slice at both dimensions"
   ]
  },
  {
   "cell_type": "code",
   "execution_count": 33,
   "metadata": {},
   "outputs": [
    {
     "name": "stdout",
     "output_type": "stream",
     "text": [
      "[[ 1.5  0.4  4.2  5.9  8.4 11.3 10.1 11.3 11.1 10. ]\n",
      " [ 2.4 10.7 12.7 10.8  9.1 13.2 13.2  8.1  6.7  8.6]\n",
      " [10.  11.3 13.1  8.4  6.3  9.7  9.7  9.1 13.9 15. ]\n",
      " [ 1.  -2.3  2.4  3.1  2.9  5.1  7.2  9.1  6.9 -0.7]\n",
      " [ 8.6  9.4  9.6  8.9  3.1  3.2  5.5  6.2  8.7 11. ]]\n"
     ]
    }
   ],
   "source": [
    "print(data[5:10, 0:10])"
   ]
  },
  {
   "cell_type": "markdown",
   "metadata": {},
   "source": [
    "## Quick excercise\n",
    "\n",
    "Select rows 0 through 2 and columns 36 through to the end of the array."
   ]
  },
  {
   "cell_type": "markdown",
   "metadata": {},
   "source": [
    "## Ansswer\n",
    "\n",
    "print(data[0:3,36:])"
   ]
  },
  {
   "cell_type": "markdown",
   "metadata": {},
   "source": [
    "## View and Copy\n",
    "When the contents are physically stored in another location, it is called Copy.\n",
    "\n",
    "If on the other hand, a different view of the same memory content is provided, we call it a View.\n",
    "\n",
    "view : it is another way of viewing the data of the array\n",
    "\n",
    "copy : it does not share allocated memory with the original array\n",
    "\n",
    "Slicing an array will result in a view:"
   ]
  },
  {
   "cell_type": "code",
   "execution_count": 34,
   "metadata": {},
   "outputs": [
    {
     "name": "stdout",
     "output_type": "stream",
     "text": [
      "a old:[0 1 2 3 4 5 6 7 8]\n",
      "b old:[6 7 8]\n",
      "a:[0 1 2 3 4 5 2 7 8]\n",
      "b:[2 7 8]\n"
     ]
    }
   ],
   "source": [
    "a = np.arange(9)\n",
    "print('a old:{}'.format(a))\n",
    "b = a[6:9]\n",
    "print('b old:{}'.format(b))\n",
    "b[0] = 2\n",
    "print('a:{}'.format(a))\n",
    "print('b:{}'.format(b))"
   ]
  },
  {
   "cell_type": "markdown",
   "metadata": {},
   "source": [
    "Whereas masking an array will result in a copy:"
   ]
  },
  {
   "cell_type": "code",
   "execution_count": 35,
   "metadata": {},
   "outputs": [
    {
     "name": "stdout",
     "output_type": "stream",
     "text": [
      "a old:[0 1 2 3 4 5 6 7 8]\n",
      "b old:[6 7 8]\n",
      "a:[0 1 2 3 4 5 6 7 8]\n",
      "b:[2 7 8]\n"
     ]
    }
   ],
   "source": [
    "a = np.arange(9)\n",
    "print('a old:{}'.format(a))\n",
    "b = a[a > 5]\n",
    "print('b old:{}'.format(b))\n",
    "b[0] = 2\n",
    "print('a:{}'.format(a))\n",
    "print('b:{}'.format(b))"
   ]
  },
  {
   "cell_type": "markdown",
   "metadata": {},
   "source": [
    "## Quick Excercie\n",
    "\n",
    "What are the final values of a and b at the end of the following program? Explain why.\n",
    "\n",
    "a = np.arange(5)\n",
    "\n",
    "b = a[a < 3]\n",
    "\n",
    "b[::2] = 0\n",
    "\n",
    "a) a = [0, 1, 2, 3, 4], b = [0, 1, 2]\n",
    "\n",
    "b) a = [0, 1, 0, 3, 4], b = [0, 1, 0]\n",
    "\n",
    "c) a = [0, 0, 2, 3, 4], b = [0, 0, 2]\n",
    "\n",
    "d) a = [0, 1, 2, 3, 4], b = [0, 1, 0]\n",
    "\n",
    "e) a = [0, 1, 2, 3, 4], b = [0, 1, 0, 3, 0]"
   ]
  },
  {
   "cell_type": "markdown",
   "metadata": {},
   "source": [
    "## Quick Excercise\n",
    "Create an array of values from 0 to 11. \n",
    "\n",
    "Create another array as follows: `y = x[2]`.\n",
    "\n",
    "What happens when you modify `y`. Does `x` also change?\n",
    "\n",
    "Now try `y = x[:2]` and modify it’s first element.\n",
    "\n",
    "What happens now?"
   ]
  },
  {
   "cell_type": "markdown",
   "metadata": {},
   "source": [
    "## Quick Excercise\n",
    "\n",
    "Create 8x8 array of zeros and fill it with a checkerboard pattern.\n",
    "\n",
    "You can use plt.imshow() to visualize your array"
   ]
  },
  {
   "cell_type": "code",
   "execution_count": 36,
   "metadata": {},
   "outputs": [
    {
     "data": {
      "text/plain": [
       "<matplotlib.image.AxesImage at 0x7f2ff4185750>"
      ]
     },
     "execution_count": 36,
     "metadata": {},
     "output_type": "execute_result"
    },
    {
     "data": {
      "image/png": "[encoded data removed]",
      "text/plain": [
       "<Figure size 432x288 with 1 Axes>"
      ]
     },
     "metadata": {
      "needs_background": "light"
     },
     "output_type": "display_data"
    }
   ],
   "source": [
    "## Answer\n",
    "\n",
    "checkerboard = np.zeros([8, 8])\n",
    "checkerboard[::2, ::2] = 1\n",
    "checkerboard[1::2, 1::2] = 1\n",
    "plt.imshow(checkerboard)"
   ]
  },
  {
   "cell_type": "markdown",
   "metadata": {},
   "source": [
    "## Operations"
   ]
  },
  {
   "cell_type": "markdown",
   "metadata": {},
   "source": [
    "Arrays also know how to perform common mathematical operations on their values. The simplest operations with data are arithmetic: addition, subtraction, multiplication, and division. When you do such operations on arrays, the operation is done element-by-element."
   ]
  },
  {
   "cell_type": "markdown",
   "metadata": {},
   "source": [
    "We will use again the same `data` as previously. We changed it a little, so let's reload it again"
   ]
  },
  {
   "cell_type": "code",
   "execution_count": 37,
   "metadata": {},
   "outputs": [
    {
     "name": "stdout",
     "output_type": "stream",
     "text": [
      "[[ 0.3  3.9  6.  ...  7.3 10.2  6.9]\n",
      " [ 7.4  8.3  7.4 ... 10.2  9.5  2.6]\n",
      " [13.7 13.9 14.1 ... 12.9 11.8 11.7]\n",
      " ...\n",
      " [ 8.6  9.4  9.6 ...  1.2  2.9  3.8]\n",
      " [11.6 13.8 14.4 ...  8.3  6.6  7. ]\n",
      " [ 8.7 10.4  5.7 ...  4.2  1.4  0.4]]\n"
     ]
    }
   ],
   "source": [
    "data = np.loadtxt(fname='paris_leap_year_weather.csv', delimiter=',')\n",
    "print(data)"
   ]
  },
  {
   "cell_type": "markdown",
   "metadata": {},
   "source": [
    "We can now easily do different operations on the data"
   ]
  },
  {
   "cell_type": "code",
   "execution_count": 38,
   "metadata": {},
   "outputs": [
    {
     "name": "stdout",
     "output_type": "stream",
     "text": [
      "[[ 0.6  7.8 12.  ... 14.6 20.4 13.8]\n",
      " [14.8 16.6 14.8 ... 20.4 19.   5.2]\n",
      " [27.4 27.8 28.2 ... 25.8 23.6 23.4]\n",
      " ...\n",
      " [17.2 18.8 19.2 ...  2.4  5.8  7.6]\n",
      " [23.2 27.6 28.8 ... 16.6 13.2 14. ]\n",
      " [17.4 20.8 11.4 ...  8.4  2.8  0.8]]\n"
     ]
    }
   ],
   "source": [
    "doubledata = data + data\n",
    "print(doubledata)"
   ]
  },
  {
   "cell_type": "markdown",
   "metadata": {},
   "source": [
    "We can make scalar operations:"
   ]
  },
  {
   "cell_type": "code",
   "execution_count": 39,
   "metadata": {},
   "outputs": [
    {
     "name": "stdout",
     "output_type": "stream",
     "text": [
      "[[ 0.9 11.7 18.  ... 21.9 30.6 20.7]\n",
      " [22.2 24.9 22.2 ... 30.6 28.5  7.8]\n",
      " [41.1 41.7 42.3 ... 38.7 35.4 35.1]\n",
      " ...\n",
      " [25.8 28.2 28.8 ...  3.6  8.7 11.4]\n",
      " [34.8 41.4 43.2 ... 24.9 19.8 21. ]\n",
      " [26.1 31.2 17.1 ... 12.6  4.2  1.2]]\n"
     ]
    }
   ],
   "source": [
    "tripledata = data * 3\n",
    "print(tripledata)"
   ]
  },
  {
   "cell_type": "markdown",
   "metadata": {},
   "source": [
    "One of the advantages of NumPy is that it allows to apply functions (called ufuncs) to all elements of an array without the need of for loops:\n",
    "\n"
   ]
  },
  {
   "cell_type": "code",
   "execution_count": 40,
   "metadata": {},
   "outputs": [
    {
     "name": "stdout",
     "output_type": "stream",
     "text": [
      "[ 0.29552021 -0.68776616 -0.2794155   0.21511999 -0.7568025   0.64421769\n",
      " -0.38941834 -0.61185789  0.6569866   0.04158066  0.74570521  0.8987081\n",
      " -0.91932853 -0.07515112  0.79366786 -0.95892427 -0.61185789 -0.95160207\n",
      " -0.95892427 -0.56464247 -0.64421769  0.90929743  0.96355819  0.09983342\n",
      "  0.71735609 -0.78332691  0.6569866  -0.82782647 -0.17432678 -0.92277542\n",
      "  0.96791967 -0.44252044  0.85043662 -0.98093623  0.31909836 -0.95892427\n",
      "  0.6569866   0.41211849 -0.99455259  0.96988981 -0.99455259 -0.95401925\n",
      " -0.27176063 -0.95401925  0.94073056  0.98935825  0.8987081  -0.45753589\n",
      " -0.77276449  0.0168139  -0.87969576 -0.69352508  0.12445442 -0.55068554\n",
      " -0.92581468 -0.61185789  0.98544973  0.8084964  -0.19866933  0.64421769\n",
      "  0.78332691  0.84147098 -0.92581468  0.31909836 -0.87969576 -0.98093623\n",
      "  0.90595474  0.72288135 -0.07515112  0.90217183  0.57843976 -0.99616461\n",
      " -0.36647913  0.42016704  0.96988981  0.12445442 -0.95663502 -0.95401925\n",
      "  0.99930939  0.9720075   0.13323204  0.13323204  0.31909836  0.12445442\n",
      "  0.21511999  0.85916181 -0.26323179  0.99894134 -0.62507065  0.31909836\n",
      " -0.95401925  0.42016704  0.42016704  0.85916181 -0.53657292 -0.87545217\n",
      "  0.32747444 -0.99999021  0.13323204  0.57119687  0.50866146  0.9720075\n",
      " -0.00885131 -0.96139749 -0.20733642 -0.8462204   0.50866146 -0.68131377\n",
      "  0.14987721 -0.34248062  0.96115272 -0.98093623  0.65028784  0.94369567\n",
      " -0.28790332  0.99930939  0.9720075   0.99930939 -0.43456562  0.8676441\n",
      "  0.83665564  0.09102242 -0.77835208 -0.97562601 -0.63810668  0.91294525\n",
      "  0.99060736  0.99930939  0.59207351  0.99930939 -0.75098725 -0.9488445\n",
      " -0.04953564 -0.00885131  0.95637593 -0.89518737  0.54327567  0.87927306\n",
      " -0.60483282 -0.14899903  0.24783421 -0.83714178  0.24783421 -0.99690007\n",
      " -0.20733642  0.471639    0.17345216  0.77779416  0.6374226  -0.94340148\n",
      "  0.92243282  0.05042269 -0.04953564  0.57119687  0.14987721  0.75157342\n",
      " -0.94340148 -0.90557836  0.06720807  0.18998668  0.85916181  0.91294525\n",
      " -0.78879829 -0.75098725 -0.48717451  0.69416467 -0.99927599  0.76255845\n",
      " -0.94103141  0.91294525 -0.48717451 -0.1086366   0.83665564 -0.57192566\n",
      " -0.66890982 -0.96769613  0.77779416 -0.00885131  0.71116122 -0.39755568\n",
      "  0.06720807  0.27090579 -0.8462204   0.471639   -0.13235175 -0.93520992\n",
      "  0.76255845 -0.50789659  0.27090579 -0.99849503 -0.89831824 -0.79312724\n",
      " -0.49334099 -0.98803162 -0.66363388  0.63195521 -0.80901877  0.81776625\n",
      " -0.56390922  0.77332789 -0.11566705  0.76255845  0.07426545 -0.58563734\n",
      "  0.18303573  0.63195521  0.98076325  0.14987721 -0.1086366  -0.94340148\n",
      "  0.53732218 -0.98803162 -0.65096231  0.95637593 -0.66363388 -0.65631676\n",
      " -0.2401116   0.87927306  0.27090579 -0.00885131 -0.99927599  0.76255845\n",
      " -0.80325573  0.61883502 -0.30396461  0.97935764 -0.97010573  0.26408852\n",
      " -0.73977859 -0.72836077  0.83665564 -0.72349476  0.38125049 -0.98691556\n",
      " -0.99808203  0.34331493 -0.83714178 -0.34248062 -0.86720218 -0.13235175\n",
      "  0.16648     0.27090579  0.92243282 -0.57192566 -0.47242199  0.14987721\n",
      " -0.55805227  0.96115272 -0.32663513  0.61883502  0.83665564  0.14987721\n",
      " -0.86720218 -0.14899903  0.9997929   0.8676441  -0.98406501 -0.68131377\n",
      "  0.52306577 -0.28790332  0.8676441   0.91294525  0.24783421 -0.28790332\n",
      " -0.63810668 -0.77835208  0.89479117 -0.98406501 -0.98406501  0.97582052\n",
      "  0.94912455 -0.24697366  0.93489506  0.57119687  0.78825207 -0.92912401\n",
      "  0.55731505 -0.19085858  0.10775365 -0.86720218 -0.83714178 -0.76198358\n",
      " -0.53657292  0.59207351  0.50866146  0.57119687  0.39674057  0.94369567\n",
      "  0.50866146 -0.99999021  0.50866146 -0.96139749  0.88715753  0.91294525\n",
      " -0.99690007  0.57119687 -0.75098725  0.8676441   0.39674057  0.93489506\n",
      "  0.9720075   0.42016704 -0.97917773  0.50866146  0.99060736 -0.16560418\n",
      "  0.7343971  -0.17432678 -0.54402111 -0.70554033  0.7343971  -0.99455259\n",
      " -0.53657292  0.99930939  0.93489506  0.39674057  0.84574683  0.32747444\n",
      " -0.99999021  0.12445442  0.58491719  0.96791967  0.40484992 -0.1821625\n",
      " -0.1821625   0.98816823 -0.0830894   0.9995736   0.90929743  0.14112001\n",
      "  0.         -0.7568025   0.23924933  0.14112001  0.85459891 -0.45753589\n",
      "  0.58491719  0.02477543 -0.17432678 -0.99543625 -0.35822928  0.57119687\n",
      "  0.49411335  0.0168139   0.41211849  0.72896904  0.41211849  0.40484992\n",
      " -0.37387666  0.41211849 -0.53657292 -0.69352508 -0.92277542 -0.07515112\n",
      " -0.98245261 -0.91616594  0.59847214 -0.97753012 -0.68776616 -0.0830894\n",
      "  0.74570521 -0.7568025   0.78332691  0.85043662 -0.69987469  0.57843976]\n"
     ]
    }
   ],
   "source": [
    "sin_of_data = np.sin(data[0,:])\n",
    "print(sin_of_data)"
   ]
  },
  {
   "cell_type": "markdown",
   "metadata": {},
   "source": [
    "This is not only convenient but also more efficient than iterating through the elements using for loops.\n",
    "\n"
   ]
  },
  {
   "cell_type": "code",
   "execution_count": 41,
   "metadata": {},
   "outputs": [
    {
     "name": "stdout",
     "output_type": "stream",
     "text": [
      "[[1.34985881e+00 4.94024491e+01 4.03428793e+02 ... 1.48029993e+03\n",
      "  2.69031861e+04 9.92274716e+02]\n",
      " [1.63598443e+03 4.02387239e+03 1.63598443e+03 ... 2.69031861e+04\n",
      "  1.33597268e+04 1.34637380e+01]\n",
      " [8.90911166e+05 1.08816136e+06 1.32908328e+06 ... 4.00312191e+05\n",
      "  1.33252353e+05 1.20571715e+05]\n",
      " ...\n",
      " [5.43165959e+03 1.20883807e+04 1.47647816e+04 ... 3.32011692e+00\n",
      "  1.81741454e+01 4.47011845e+01]\n",
      " [1.09097799e+05 9.84609111e+05 1.79407477e+06 ... 4.02387239e+03\n",
      "  7.35095189e+02 1.09663316e+03]\n",
      " [6.00291222e+03 3.28596257e+04 2.98867401e+02 ... 6.66863310e+01\n",
      "  4.05519997e+00 1.49182470e+00]]\n"
     ]
    }
   ],
   "source": [
    "expdata = np.exp(data)\n",
    "print(expdata)"
   ]
  },
  {
   "cell_type": "markdown",
   "metadata": {},
   "source": [
    "**Warning** Standard Python installation also includes the `math` library, but it does not play nicely with NumPy array and it may give different results than numpy function, so avoid using it with NumPy arrays.\n",
    "\n",
    "Some functions (such as mean, max, etc.) aggregate the data return arrays of less dimensions or scalars:"
   ]
  },
  {
   "cell_type": "code",
   "execution_count": 42,
   "metadata": {},
   "outputs": [
    {
     "name": "stdout",
     "output_type": "stream",
     "text": [
      "sum data: 67392.0\n"
     ]
    }
   ],
   "source": [
    "sumdata = np.sum(data)\n",
    "print('sum data: {}'.format(sumdata))"
   ]
  },
  {
   "cell_type": "code",
   "execution_count": 43,
   "metadata": {},
   "outputs": [
    {
     "name": "stdout",
     "output_type": "stream",
     "text": [
      "15.344262295081966\n"
     ]
    }
   ],
   "source": [
    "meandata = np.mean(data)\n",
    "print(meandata)"
   ]
  },
  {
   "cell_type": "markdown",
   "metadata": {},
   "source": [
    "It's also possbile to average over a single axis. If we are averaging across 0 axis it means that we will take a average temperature for each day in a year across all days."
   ]
  },
  {
   "cell_type": "code",
   "execution_count": 44,
   "metadata": {},
   "outputs": [
    {
     "name": "stdout",
     "output_type": "stream",
     "text": [
      "366\n"
     ]
    }
   ],
   "source": [
    "print(len(np.mean(data, 0)))"
   ]
  },
  {
   "cell_type": "markdown",
   "metadata": {},
   "source": [
    "## Quick excercise\n",
    "\n",
    "Create array a with random elements of shape 1000 x 3.\n",
    "\n",
    "Select the second and third column (index 1 and 2) and calculate the mean for each of the columns (i.e. your answer should be an array with two elements)"
   ]
  },
  {
   "cell_type": "markdown",
   "metadata": {},
   "source": [
    "## Answer\n",
    "np.mean(data[:, [1, 2]], 0)"
   ]
  },
  {
   "cell_type": "markdown",
   "metadata": {},
   "source": [
    "## Quick excercise\n",
    "\n",
    "Generate a 10 x 3 array of random numbers (using `np.random.rand`).\n",
    "\n",
    "From each row, find the column index of the element closest to 0.75. Make use of np.abs and np.argmin.\n",
    "\n",
    "The result should be a one-dimensional array of integers from 0 to 2."
   ]
  },
  {
   "cell_type": "markdown",
   "metadata": {},
   "source": [
    "## Answer\n",
    "\n",
    "new_array = np.random.rand(10, 3)\n",
    "\n",
    "array_shifted = new_array - 0.75\n",
    "\n",
    "array_abs = np.abs(array_shifted)\n",
    "\n",
    "closest = np.argmin(array_abs, 1)\n",
    "\n",
    "print(closest)"
   ]
  },
  {
   "cell_type": "code",
   "execution_count": null,
   "metadata": {},
   "outputs": [],
   "source": []
  }
 ],
 "metadata": {
  "kernelspec": {
   "display_name": "Python 3",
   "language": "python",
   "name": "python3"
  },
  "language_info": {
   "codemirror_mode": {
    "name": "ipython",
    "version": 3
   },
   "file_extension": ".py",
   "mimetype": "text/x-python",
   "name": "python",
   "nbconvert_exporter": "python",
   "pygments_lexer": "ipython3",
   "version": "3.7.4"
  }
 },
 "nbformat": 4,
 "nbformat_minor": 4
}
