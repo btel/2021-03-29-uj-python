{
 "cells": [
  {
   "cell_type": "markdown",
   "metadata": {},
   "source": [
    "## Built in functions"
   ]
  },
  {
   "cell_type": "markdown",
   "metadata": {},
   "source": [
    "What is a function??\n",
    "\n",
    "So far we have seen a function print() but there are many other functions in Python.\n",
    "\n",
    "Function is some code which we is ready to be reused for a single, related action.\n",
    "To use the function you need to type it's name and the round brackets `()`.\n",
    "\n",
    "Functions take 0 or many arguments. Arguments are the values which the function needs to process the request."
   ]
  },
  {
   "cell_type": "markdown",
   "metadata": {},
   "source": [
    "There are many other built-in functions in Python which you can reuse such as\n",
    "`len()` which takes one argument and returns it's legth, eg:"
   ]
  },
  {
   "cell_type": "code",
   "execution_count": 1,
   "metadata": {},
   "outputs": [
    {
     "data": {
      "text/plain": [
       "5"
      ]
     },
     "execution_count": 1,
     "metadata": {},
     "output_type": "execute_result"
    }
   ],
   "source": [
    "len('happy')"
   ]
  },
  {
   "cell_type": "markdown",
   "metadata": {},
   "source": [
    "It is also possible to use function `type()` to check for a type of a variable which we are using, eg:"
   ]
  },
  {
   "cell_type": "code",
   "execution_count": 2,
   "metadata": {},
   "outputs": [
    {
     "name": "stdout",
     "output_type": "stream",
     "text": [
      "<class 'str'>\n",
      "<class 'int'>\n"
     ]
    }
   ],
   "source": [
    "print(type('day'))\n",
    "print(type(2))"
   ]
  },
  {
   "cell_type": "markdown",
   "metadata": {},
   "source": [
    "Or functions which can convert a value to a different type such as `int`, `float` or `str`:"
   ]
  },
  {
   "cell_type": "code",
   "execution_count": 3,
   "metadata": {},
   "outputs": [
    {
     "name": "stdout",
     "output_type": "stream",
     "text": [
      "convert:\n",
      "<class 'float'> to: <class 'int'>\n",
      "<class 'int'> to: <class 'float'>\n",
      "<class 'int'> to: <class 'str'>\n"
     ]
    }
   ],
   "source": [
    "print('convert:')\n",
    "print(type(2.3), 'to:', type(int(2.3)))\n",
    "print(type(2), 'to:', type(float(2)))\n",
    "print(type(2), 'to:', type(str(2)))"
   ]
  },
  {
   "cell_type": "markdown",
   "metadata": {},
   "source": [
    "## What meas that function is `built-in` ?\n",
    "\n",
    "Functions are built-in if they are ready-to-use and come with your Python installation.\n",
    "\n",
    "Later we will also talk about functions which you can only access in specific libraries and functions which you can write yourself."
   ]
  },
  {
   "cell_type": "markdown",
   "metadata": {},
   "source": [
    "Some other `built-in` functions which you may find useful:"
   ]
  },
  {
   "cell_type": "markdown",
   "metadata": {},
   "source": [
    "`max()`   use it to find the maximum value\n",
    "\n",
    "`min()`   finds minimum value\n",
    "\n",
    "`round()`  rounds the float number points"
   ]
  },
  {
   "cell_type": "code",
   "execution_count": 4,
   "metadata": {
    "scrolled": true
   },
   "outputs": [
    {
     "name": "stdout",
     "output_type": "stream",
     "text": [
      "Max: 4\n",
      "Min: a\n",
      "Round: 1.23\n",
      "Round: 2\n"
     ]
    }
   ],
   "source": [
    "print('Max:', max(1,2,3,4))\n",
    "print('Min:', min('apple'))\n",
    "print('Round:', round(1.233434, 2))\n",
    "print('Round:', round(1.677))"
   ]
  },
  {
   "cell_type": "markdown",
   "metadata": {},
   "source": [
    "## Quick question\n",
    "\n",
    "What will return the fallowing lines of code:\n",
    "\n",
    "speed = 10\n",
    "speed = min(len('apple'), speed, max(10, speed * 0.5))"
   ]
  },
  {
   "cell_type": "markdown",
   "metadata": {},
   "source": [
    "The values given to the functions must be meaningful, this won't work:"
   ]
  },
  {
   "cell_type": "code",
   "execution_count": 27,
   "metadata": {
    "scrolled": true
   },
   "outputs": [
    {
     "ename": "TypeError",
     "evalue": "type str doesn't define __round__ method",
     "output_type": "error",
     "traceback": [
      "\u001b[0;31m---------------------------------------------------------------------------\u001b[0m",
      "\u001b[0;31mTypeError\u001b[0m                                 Traceback (most recent call last)",
      "\u001b[0;32m<ipython-input-27-2d9caedb15cc>\u001b[0m in \u001b[0;36m<module>\u001b[0;34m\u001b[0m\n\u001b[0;32m----> 1\u001b[0;31m \u001b[0mround\u001b[0m\u001b[0;34m(\u001b[0m\u001b[0;34m'apple'\u001b[0m\u001b[0;34m)\u001b[0m\u001b[0;34m\u001b[0m\u001b[0;34m\u001b[0m\u001b[0m\n\u001b[0m",
      "\u001b[0;31mTypeError\u001b[0m: type str doesn't define __round__ method"
     ]
    }
   ],
   "source": [
    "round('apple')    "
   ]
  },
  {
   "cell_type": "markdown",
   "metadata": {},
   "source": [
    "There is another important function which you might find useful. It is called help."
   ]
  },
  {
   "cell_type": "code",
   "execution_count": 19,
   "metadata": {},
   "outputs": [],
   "source": [
    "help(int)"
   ]
  },
  {
   "cell_type": "markdown",
   "metadata": {},
   "source": [
    "In Jupyter notebook you can also use `?` in the end of the function"
   ]
  },
  {
   "cell_type": "code",
   "execution_count": 9,
   "metadata": {},
   "outputs": [],
   "source": [
    "int?"
   ]
  },
  {
   "cell_type": "markdown",
   "metadata": {},
   "source": [
    "## Quick question\n",
    "\n",
    "What do you think will happen if we type print() with no arguments?"
   ]
  },
  {
   "cell_type": "code",
   "execution_count": null,
   "metadata": {},
   "outputs": [],
   "source": [
    "Go to: [3. Lists](lists.ipynb)\n",
    "Go back to: [1. Python variables](python_intro.ipynb)"
   ]
  },
  {
   "cell_type": "markdown",
   "metadata": {},
   "source": [
    "## Quick question\n",
    "\n",
    "How can you get the last letter of the string?\n",
    "\n",
    "Hint: use `len()`\n",
    "    \n",
    "Note: We will learn a simpler solution soon"
   ]
  },
  {
   "cell_type": "markdown",
   "metadata": {},
   "source": [
    "## Answer:\n",
    "\n",
    "my_string = 'word'\n",
    "\n",
    "print(my_string[len(my_string) - 1])\n",
    "    "
   ]
  },
  {
   "cell_type": "code",
   "execution_count": null,
   "metadata": {},
   "outputs": [],
   "source": []
  }
 ],
 "metadata": {
  "kernelspec": {
   "display_name": "Python 3",
   "language": "python",
   "name": "python3"
  },
  "language_info": {
   "codemirror_mode": {
    "name": "ipython",
    "version": 3
   },
   "file_extension": ".py",
   "mimetype": "text/x-python",
   "name": "python",
   "nbconvert_exporter": "python",
   "pygments_lexer": "ipython3",
   "version": "3.7.4"
  }
 },
 "nbformat": 4,
 "nbformat_minor": 2
}
