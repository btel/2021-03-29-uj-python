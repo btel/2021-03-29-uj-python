{
 "cells": [
  {
   "cell_type": "markdown",
   "metadata": {},
   "source": [
    "# Dictionaries\n",
    "\n",
    "So far we learnt about two different types of containers: list and string.\n",
    "\n",
    "Now we will talk about another type which is a `dictionary`.\n",
    "\n",
    "Because of how they are internally implemented dictionaries are very efficient especially when searching for a specific item.\n",
    "\n",
    "The dictionaries are defines with curly brackets `{}`"
   ]
  },
  {
   "cell_type": "markdown",
   "metadata": {},
   "source": [
    "You can define empty dictionary as follows:"
   ]
  },
  {
   "cell_type": "code",
   "execution_count": 4,
   "metadata": {},
   "outputs": [
    {
     "name": "stdout",
     "output_type": "stream",
     "text": [
      "<class 'dict'>\n"
     ]
    }
   ],
   "source": [
    "my_dict = {}\n",
    "print(type(my_dict))"
   ]
  },
  {
   "cell_type": "markdown",
   "metadata": {},
   "source": [
    "Dictionaries are used to store pairs: key:value.\n",
    "\n",
    "For example:"
   ]
  },
  {
   "cell_type": "code",
   "execution_count": 27,
   "metadata": {},
   "outputs": [
    {
     "name": "stdout",
     "output_type": "stream",
     "text": [
      "{'type': 'cat', 'age': 4, 'weight': 10.5, 'vaccinated': [2017, 2021]}\n"
     ]
    }
   ],
   "source": [
    "animal = {\n",
    "    \"type\": \"cat\",\n",
    "    \"age\" : 4,\n",
    "    \"weight\" : 10.5,\n",
    "    \"vaccinated\" : [2017, 2021]\n",
    "}\n",
    "print(animal)"
   ]
  },
  {
   "cell_type": "markdown",
   "metadata": {},
   "source": [
    "As you see, the same as lists, dictionaries can store different types of data.\n",
    "\n",
    "To find out all the keys or all the values from the dictionary we can use the methods keys() and values()"
   ]
  },
  {
   "cell_type": "code",
   "execution_count": 10,
   "metadata": {},
   "outputs": [
    {
     "name": "stdout",
     "output_type": "stream",
     "text": [
      "keys dict_keys(['type', 'age', 'weight'])\n",
      "values dict_values(['cat', 4, 10.5])\n"
     ]
    }
   ],
   "source": [
    "print('keys', animal.keys())\n",
    "print('values', animal.values())"
   ]
  },
  {
   "cell_type": "markdown",
   "metadata": {},
   "source": [
    "Now, if you wish to get out an element from this dictionary you can do it using squared brackets with:"
   ]
  },
  {
   "cell_type": "code",
   "execution_count": 14,
   "metadata": {},
   "outputs": [
    {
     "name": "stdout",
     "output_type": "stream",
     "text": [
      "cat\n"
     ]
    }
   ],
   "source": [
    "print(animal['type'])"
   ]
  },
  {
   "cell_type": "markdown",
   "metadata": {},
   "source": [
    "If you would like to add new values you can do so by assigning a value to the key, also using square brackets:"
   ]
  },
  {
   "cell_type": "code",
   "execution_count": 18,
   "metadata": {},
   "outputs": [
    {
     "name": "stdout",
     "output_type": "stream",
     "text": [
      "{'type': 'cat', 'age': 4, 'weight': 10.5, 'typed': 1, 'color': 'black'}\n"
     ]
    }
   ],
   "source": [
    "animal['color'] = 'black'\n",
    "print(animal)"
   ]
  },
  {
   "cell_type": "markdown",
   "metadata": {},
   "source": [
    "Be careful, dictionaries do not allow duplicates. If you try to create another `key` as the one which already exists, the previous one will be overwritten"
   ]
  },
  {
   "cell_type": "code",
   "execution_count": 25,
   "metadata": {},
   "outputs": [],
   "source": [
    "animal2 = {\n",
    "    \"type\" : \"dog\",\n",
    "    \"type\" : \"cat\"\n",
    "}"
   ]
  },
  {
   "cell_type": "code",
   "execution_count": 26,
   "metadata": {},
   "outputs": [
    {
     "name": "stdout",
     "output_type": "stream",
     "text": [
      "{'type': 'cat'}\n"
     ]
    }
   ],
   "source": [
    "print(animal2)"
   ]
  },
  {
   "cell_type": "markdown",
   "metadata": {},
   "source": [
    "## Quick excercise\n",
    "\n",
    "Consider following dictionary:\n",
    "\n",
    "```\n",
    "dict = {'boo': 1, 'foo': 1, 'poo': 1}\n",
    "```\n",
    "\n",
    "What is the result of this statement:\n",
    "\n",
    "```\n",
    "dict['bar':'baz']\n",
    "```"
   ]
  },
  {
   "cell_type": "markdown",
   "metadata": {},
   "source": [
    "go to: [Numpy](numpy.ipynb)"
   ]
  },
  {
   "cell_type": "code",
   "execution_count": null,
   "metadata": {},
   "outputs": [],
   "source": []
  }
 ],
 "metadata": {
  "kernelspec": {
   "display_name": "Python 3",
   "language": "python",
   "name": "python3"
  },
  "language_info": {
   "codemirror_mode": {
    "name": "ipython",
    "version": 3
   },
   "file_extension": ".py",
   "mimetype": "text/x-python",
   "name": "python",
   "nbconvert_exporter": "python",
   "pygments_lexer": "ipython3",
   "version": "3.7.4"
  }
 },
 "nbformat": 4,
 "nbformat_minor": 4
}
