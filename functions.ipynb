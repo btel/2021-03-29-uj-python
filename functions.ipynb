{
 "cells": [
  {
   "cell_type": "markdown",
   "metadata": {},
   "source": [
    "## Functions\n",
    "\n",
    "We have introduced the built-in functions previously. But you can also write your own functions.\n",
    "\n",
    "You will usually want to do that when you are going to use the same functionality over and over.\n",
    "\n",
    "It is not advaisible to write very long functions but keep them well-defined and to their purpose. This allows for easier readibility."
   ]
  },
  {
   "cell_type": "code",
   "execution_count": 1,
   "metadata": {},
   "outputs": [],
   "source": [
    "def km_to_miles(kilometers):\n",
    "    return round(kilometers / 1.609344, 3)"
   ]
  },
  {
   "cell_type": "markdown",
   "metadata": {},
   "source": [
    "`def` is a statements which tells Python we want to start a function,\n",
    "\n",
    "`km_to_miles` is the name of the function,\n",
    "\n",
    "`kilometers` are required parameter names. You may want to have 0 or many parameters.\n",
    "\n",
    "`return` tells Python what to return as an output"
   ]
  },
  {
   "cell_type": "code",
   "execution_count": 2,
   "metadata": {},
   "outputs": [
    {
     "data": {
      "text/plain": [
       "6.214"
      ]
     },
     "execution_count": 2,
     "metadata": {},
     "output_type": "execute_result"
    }
   ],
   "source": [
    "km_to_miles(10)"
   ]
  },
  {
   "cell_type": "markdown",
   "metadata": {},
   "source": [
    "We called our function with a parameter 10."
   ]
  },
  {
   "cell_type": "code",
   "execution_count": 3,
   "metadata": {},
   "outputs": [
    {
     "name": "stdout",
     "output_type": "stream",
     "text": [
      "marathon lenght is 26.219 miles\n"
     ]
    }
   ],
   "source": [
    "print('marathon lenght is', km_to_miles(42.195), 'miles')"
   ]
  },
  {
   "cell_type": "code",
   "execution_count": 4,
   "metadata": {},
   "outputs": [
    {
     "name": "stdout",
     "output_type": "stream",
     "text": [
      "straight line distance between Paris and Krakow is 792.808 miles\n"
     ]
    }
   ],
   "source": [
    "print('straight line distance between Paris and Krakow is', km_to_miles(1275.9), 'miles')"
   ]
  },
  {
   "cell_type": "markdown",
   "metadata": {},
   "source": [
    "We can also write another function which converts miles to feet:"
   ]
  },
  {
   "cell_type": "code",
   "execution_count": 5,
   "metadata": {},
   "outputs": [],
   "source": [
    "def miles_to_feet(miles):\n",
    "    return round(miles * 5280)"
   ]
  },
  {
   "cell_type": "code",
   "execution_count": 6,
   "metadata": {},
   "outputs": [
    {
     "data": {
      "text/plain": [
       "2640"
      ]
     },
     "execution_count": 6,
     "metadata": {},
     "output_type": "execute_result"
    }
   ],
   "source": [
    "miles_to_feet(0.5)"
   ]
  },
  {
   "cell_type": "markdown",
   "metadata": {},
   "source": [
    "How about now converting kilometers to feet?"
   ]
  },
  {
   "cell_type": "code",
   "execution_count": 7,
   "metadata": {},
   "outputs": [],
   "source": [
    "def km_to_feet(kilometers):\n",
    "    miles = km_to_miles(kilometers)\n",
    "    return miles_to_feet(miles)"
   ]
  },
  {
   "cell_type": "code",
   "execution_count": 8,
   "metadata": {},
   "outputs": [
    {
     "name": "stdout",
     "output_type": "stream",
     "text": [
      "0.5 km is 1642 feet\n"
     ]
    }
   ],
   "source": [
    "print('0.5 km is',km_to_feet(0.5),'feet')"
   ]
  },
  {
   "cell_type": "markdown",
   "metadata": {},
   "source": [
    "We can write very specific functions and then combine them together to write larger functions"
   ]
  },
  {
   "cell_type": "markdown",
   "metadata": {},
   "source": [
    "It is also important to write a short message about what the function does, what kind of parameters it takes and what it returns:"
   ]
  },
  {
   "cell_type": "code",
   "execution_count": 9,
   "metadata": {},
   "outputs": [],
   "source": [
    "def km_to_feet(kilometers):\n",
    "    miles = km_to_miles(kilometers)\n",
    "    return miles_to_feet(miles)"
   ]
  },
  {
   "cell_type": "markdown",
   "metadata": {},
   "source": [
    "**Exercise**\n",
    "\n",
    "Implement a function `count_bunnies` to make this code functional:\n",
    "    \n",
    "```python\n",
    "baskets = [\n",
    "    [\"bunny\", \"egg\"],\n",
    "    [\"bunny\", \"bunny\", \"chick\"], \n",
    "    [\"egg\", \"egg\"]\n",
    "]\n",
    "\n",
    "total_bunnies = 0\n",
    "for basket in baskets:\n",
    "    total_bunnies += count_bunnies(basket)\n",
    "print(total_bunnies)\n",
    "```"
   ]
  },
  {
   "cell_type": "markdown",
   "metadata": {},
   "source": [
    "**Solution** \n",
    "\n",
    "```python\n",
    "def count_bunnies(basket):\n",
    "    n_bunnies = 0\n",
    "    for item in basket:\n",
    "        if item == \"bunny\":\n",
    "            n_bunnies += 1\n",
    "            \n",
    "    return n_bunnies\n",
    "```"
   ]
  },
  {
   "cell_type": "markdown",
   "metadata": {},
   "source": [
    "### Functions with multiple return statements"
   ]
  },
  {
   "cell_type": "markdown",
   "metadata": {},
   "source": [
    "Function can have mutliple returns in its body. Such a function  exits when it hits the first of such `return`:"
   ]
  },
  {
   "cell_type": "code",
   "execution_count": 20,
   "metadata": {},
   "outputs": [],
   "source": [
    "# convert values from kilometers to other unit\n",
    "def convert_from_km(value_in_km, unit):\n",
    "    if unit == \"miles\":\n",
    "        return km_to_miles(value_in_km)\n",
    "    elif unit == \"feet\":\n",
    "        return km_to_feet(value_in_km)\n",
    "    return \"unit \" + unit + \" unknown\""
   ]
  },
  {
   "cell_type": "code",
   "execution_count": 21,
   "metadata": {},
   "outputs": [
    {
     "data": {
      "text/plain": [
       "3.107"
      ]
     },
     "execution_count": 21,
     "metadata": {},
     "output_type": "execute_result"
    }
   ],
   "source": [
    "convert_from_km(5, 'miles')"
   ]
  },
  {
   "cell_type": "code",
   "execution_count": 22,
   "metadata": {},
   "outputs": [
    {
     "data": {
      "text/plain": [
       "16405"
      ]
     },
     "execution_count": 22,
     "metadata": {},
     "output_type": "execute_result"
    }
   ],
   "source": [
    "convert_from_km(5, 'feet')"
   ]
  },
  {
   "cell_type": "code",
   "execution_count": 24,
   "metadata": {},
   "outputs": [
    {
     "data": {
      "text/plain": [
       "'unit lightyears unknown'"
      ]
     },
     "execution_count": 24,
     "metadata": {},
     "output_type": "execute_result"
    }
   ],
   "source": [
    "convert_from_km(5, 'lightyears')"
   ]
  },
  {
   "cell_type": "code",
   "execution_count": null,
   "metadata": {},
   "outputs": [],
   "source": [
    "# modify function above to "
   ]
  },
  {
   "cell_type": "markdown",
   "metadata": {},
   "source": [
    "\n",
    "**Exercise** Fill in the blanks:\n",
    "\n",
    "```python\n",
    "def all_even(values):\n",
    "    # returns True if all numbers are even\n",
    "    for v in ___:\n",
    "        if v % 2 != 0:\n",
    "            return ____\n",
    "    return _____\n",
    "```"
   ]
  },
  {
   "cell_type": "markdown",
   "metadata": {},
   "source": [
    "**Solution** "
   ]
  },
  {
   "cell_type": "code",
   "execution_count": 11,
   "metadata": {},
   "outputs": [],
   "source": [
    "def all_even(values):\n",
    "    # returns True if all numbers are even\n",
    "    for v in values:\n",
    "        if v % 2 != 0:\n",
    "            return False\n",
    "    return True"
   ]
  },
  {
   "cell_type": "markdown",
   "metadata": {},
   "source": [
    "### Documentation"
   ]
  },
  {
   "cell_type": "markdown",
   "metadata": {},
   "source": [
    "Each function should be documented - namely its role, arguments and other comments. See for example, documentation for the `np.zeros` function:"
   ]
  },
  {
   "cell_type": "code",
   "execution_count": 29,
   "metadata": {},
   "outputs": [
    {
     "name": "stdout",
     "output_type": "stream",
     "text": [
      "Help on built-in function zeros in module numpy:\n",
      "\n",
      "zeros(...)\n",
      "    zeros(shape, dtype=float, order='C')\n",
      "    \n",
      "    Return a new array of given shape and type, filled with zeros.\n",
      "    \n",
      "    Parameters\n",
      "    ----------\n",
      "    shape : int or tuple of ints\n",
      "        Shape of the new array, e.g., ``(2, 3)`` or ``2``.\n",
      "    dtype : data-type, optional\n",
      "        The desired data-type for the array, e.g., `numpy.int8`.  Default is\n",
      "        `numpy.float64`.\n",
      "    order : {'C', 'F'}, optional, default: 'C'\n",
      "        Whether to store multi-dimensional data in row-major\n",
      "        (C-style) or column-major (Fortran-style) order in\n",
      "        memory.\n",
      "    \n",
      "    Returns\n",
      "    -------\n",
      "    out : ndarray\n",
      "        Array of zeros with the given shape, dtype, and order.\n",
      "    \n",
      "    See Also\n",
      "    --------\n",
      "    zeros_like : Return an array of zeros with shape and type of input.\n",
      "    empty : Return a new uninitialized array.\n",
      "    ones : Return a new array setting values to one.\n",
      "    full : Return a new array of given shape filled with value.\n",
      "    \n",
      "    Examples\n",
      "    --------\n",
      "    >>> np.zeros(5)\n",
      "    array([ 0.,  0.,  0.,  0.,  0.])\n",
      "    \n",
      "    >>> np.zeros((5,), dtype=int)\n",
      "    array([0, 0, 0, 0, 0])\n",
      "    \n",
      "    >>> np.zeros((2, 1))\n",
      "    array([[ 0.],\n",
      "           [ 0.]])\n",
      "    \n",
      "    >>> s = (2,2)\n",
      "    >>> np.zeros(s)\n",
      "    array([[ 0.,  0.],\n",
      "           [ 0.,  0.]])\n",
      "    \n",
      "    >>> np.zeros((2,), dtype=[('x', 'i4'), ('y', 'i4')]) # custom dtype\n",
      "    array([(0, 0), (0, 0)],\n",
      "          dtype=[('x', '<i4'), ('y', '<i4')])\n",
      "\n"
     ]
    }
   ],
   "source": [
    "import numpy as np\n",
    "help(np.zeros)"
   ]
  },
  {
   "cell_type": "markdown",
   "metadata": {},
   "source": [
    "You can add such documentation using so called \"docstrings\":"
   ]
  },
  {
   "cell_type": "code",
   "execution_count": 34,
   "metadata": {},
   "outputs": [],
   "source": [
    "def km_to_meters(value):\n",
    "    \"\"\"Convert distance in kilometers to meters\n",
    "    \n",
    "    When you enclose the docstring in tripple quotation marks\n",
    "    you can also insert new lines\"\"\"\n",
    "    return value * 1000"
   ]
  },
  {
   "cell_type": "code",
   "execution_count": 35,
   "metadata": {},
   "outputs": [
    {
     "name": "stdout",
     "output_type": "stream",
     "text": [
      "Help on function km_to_meters in module __main__:\n",
      "\n",
      "km_to_meters(value)\n",
      "    Convert distance in kilometers to meters\n",
      "    \n",
      "    When you enclose the docstring in tripple quotation marks\n",
      "    you can also insert new lines\n",
      "\n"
     ]
    }
   ],
   "source": [
    "help(km_to_meters)"
   ]
  },
  {
   "cell_type": "markdown",
   "metadata": {},
   "source": [
    "**Quiz** Anatomy of the function.\n",
    "\n",
    "\n",
    "Match labels A-E with the following names: \n",
    "\n",
    "* return statement, \n",
    "\n",
    "* docstring, \n",
    "\n",
    "* arguments, \n",
    "\n",
    "* function name,\n",
    "\n",
    "* body\n",
    "\n",
    "![](anatomy_of_function.svg)\n",
    "\n",
    "\n",
    "\n"
   ]
  },
  {
   "cell_type": "markdown",
   "metadata": {},
   "source": [
    "go back to [index](index.ipynb)"
   ]
  },
  {
   "cell_type": "code",
   "execution_count": null,
   "metadata": {},
   "outputs": [],
   "source": []
  }
 ],
 "metadata": {
  "kernelspec": {
   "display_name": "Python 3",
   "language": "python",
   "name": "python3"
  },
  "language_info": {
   "codemirror_mode": {
    "name": "ipython",
    "version": 3
   },
   "file_extension": ".py",
   "mimetype": "text/x-python",
   "name": "python",
   "nbconvert_exporter": "python",
   "pygments_lexer": "ipython3",
   "version": "3.7.4"
  }
 },
 "nbformat": 4,
 "nbformat_minor": 4
}
