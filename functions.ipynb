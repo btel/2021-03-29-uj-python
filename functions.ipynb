{
 "cells": [
  {
   "cell_type": "markdown",
   "metadata": {},
   "source": [
    "## Functions\n",
    "\n",
    "We have introduced the built-in functions previously. But you can also write your own functions.\n",
    "\n",
    "You will usually want to do that when you are going to use the same functionality over and over.\n",
    "\n",
    "It is not advaisible to write very long functions but keep them well-defined and to their purpose. This allows for easier readibility."
   ]
  },
  {
   "cell_type": "code",
   "execution_count": 8,
   "metadata": {},
   "outputs": [],
   "source": [
    "def km_to_miles(kilometers):\n",
    "    return round(kilometers / 1.609344, 3)"
   ]
  },
  {
   "cell_type": "markdown",
   "metadata": {},
   "source": [
    "`def` is a statements which tells Python we want to start a function,\n",
    "\n",
    "`km_to_miles` is the name of the function,\n",
    "\n",
    "`kilometers` are required parameter names. You may want to have 0 or many parameters.\n",
    "\n",
    "`return` tells Python what to return as an output"
   ]
  },
  {
   "cell_type": "code",
   "execution_count": 10,
   "metadata": {},
   "outputs": [
    {
     "data": {
      "text/plain": [
       "6.214"
      ]
     },
     "execution_count": 10,
     "metadata": {},
     "output_type": "execute_result"
    }
   ],
   "source": [
    "km_to_miles(10)"
   ]
  },
  {
   "cell_type": "markdown",
   "metadata": {},
   "source": [
    "We called our function with a parameter 10."
   ]
  },
  {
   "cell_type": "code",
   "execution_count": 12,
   "metadata": {},
   "outputs": [
    {
     "name": "stdout",
     "output_type": "stream",
     "text": [
      "marathon lenght is 26.219 miles\n"
     ]
    }
   ],
   "source": [
    "print('marathon lenght is', km_to_miles(42.195), 'miles')"
   ]
  },
  {
   "cell_type": "code",
   "execution_count": 14,
   "metadata": {},
   "outputs": [
    {
     "name": "stdout",
     "output_type": "stream",
     "text": [
      "straight line distance between Paris and Krakow is 792.808 miles\n"
     ]
    }
   ],
   "source": [
    "print('straight line distance between Paris and Krakow is', km_to_miles(1275.9), 'miles')"
   ]
  },
  {
   "cell_type": "markdown",
   "metadata": {},
   "source": [
    "We can also write another function which converts miles to kilometers:"
   ]
  },
  {
   "cell_type": "code",
   "execution_count": 20,
   "metadata": {},
   "outputs": [],
   "source": [
    "def miles_to_feet(miles):\n",
    "    return round(miles * 5280)"
   ]
  },
  {
   "cell_type": "code",
   "execution_count": 22,
   "metadata": {},
   "outputs": [
    {
     "data": {
      "text/plain": [
       "2640"
      ]
     },
     "execution_count": 22,
     "metadata": {},
     "output_type": "execute_result"
    }
   ],
   "source": [
    "miles_to_feet(0.5)"
   ]
  },
  {
   "cell_type": "markdown",
   "metadata": {},
   "source": [
    "How about now converting kilometers to feet?"
   ]
  },
  {
   "cell_type": "code",
   "execution_count": 23,
   "metadata": {},
   "outputs": [],
   "source": [
    "def km_to_feet(kilometers):\n",
    "    miles = km_to_miles(kilometers)\n",
    "    return miles_to_feet(miles)"
   ]
  },
  {
   "cell_type": "code",
   "execution_count": 26,
   "metadata": {},
   "outputs": [
    {
     "name": "stdout",
     "output_type": "stream",
     "text": [
      "0.5 km is 4250 feet\n"
     ]
    }
   ],
   "source": [
    "print('0.5 km is',km_to_feet(0.5),'feet')"
   ]
  },
  {
   "cell_type": "markdown",
   "metadata": {},
   "source": [
    "We can write very specific functions and then combine them together to write larger functions"
   ]
  },
  {
   "cell_type": "markdown",
   "metadata": {},
   "source": [
    "It is also important to write a short message about what the function does, what kind of parameters it takes and what it returns:"
   ]
  },
  {
   "cell_type": "code",
   "execution_count": null,
   "metadata": {},
   "outputs": [],
   "source": [
    "def km_to_feet(kilometers):\n",
    "    miles = km_to_miles(kilometers)\n",
    "    return miles_to_feet(miles)"
   ]
  }
 ],
 "metadata": {
  "kernelspec": {
   "display_name": "Python 3",
   "language": "python",
   "name": "python3"
  },
  "language_info": {
   "codemirror_mode": {
    "name": "ipython",
    "version": 3
   },
   "file_extension": ".py",
   "mimetype": "text/x-python",
   "name": "python",
   "nbconvert_exporter": "python",
   "pygments_lexer": "ipython3",
   "version": "3.7.4"
  }
 },
 "nbformat": 4,
 "nbformat_minor": 2
}
