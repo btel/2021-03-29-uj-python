{
 "cells": [
  {
   "cell_type": "markdown",
   "metadata": {},
   "source": [
    "1. [introduction to Jupyter Notebook](intro.ipynb)\n",
    "2. [Introduction to Python](python_intro.ipynb)\n",
    "3. [Built in functions](built_in_functions.ipynb)\n",
    "4. [Lists](lists.ipynb)\n",
    "5. [Dictionaries](Dictionaries.ipynb)\n",
    "6. [Numpy](Numpy.ipynb)\n",
    "- Pandas\n",
    "- Matplotlib\n",
    "- [for loop](for_loop.ipynb)\n",
    "- [conditionals](conditionals.ipynb)\n",
    "- [functions](functions.ipynb)\n",
    "- summary"
   ]
  },
  {
   "cell_type": "code",
   "execution_count": null,
   "metadata": {},
   "outputs": [],
   "source": []
  }
 ],
 "metadata": {
  "kernelspec": {
   "display_name": "Python 3",
   "language": "python",
   "name": "python3"
  },
  "language_info": {
   "codemirror_mode": {
    "name": "ipython",
    "version": 3
   },
   "file_extension": ".py",
   "mimetype": "text/x-python",
   "name": "python",
   "nbconvert_exporter": "python",
   "pygments_lexer": "ipython3",
   "version": "3.7.4"
  }
 },
 "nbformat": 4,
 "nbformat_minor": 4
}
